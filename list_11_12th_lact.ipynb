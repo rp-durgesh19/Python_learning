{
  "cells": [
    {
      "cell_type": "markdown",
      "metadata": {
        "id": "view-in-github",
        "colab_type": "text"
      },
      "source": [
        "<a href=\"https://colab.research.google.com/github/dreamer561/Python/blob/main/list_11_12th_lact.ipynb\" target=\"_parent\"><img src=\"https://colab.research.google.com/assets/colab-badge.svg\" alt=\"Open In Colab\"/></a>"
      ]
    },
    {
      "cell_type": "code",
      "execution_count": null,
      "metadata": {
        "id": "-vXlGPb0xK8p",
        "outputId": "c10bc5bf-2f74-4340-9f17-455717d4cbb1"
      },
      "outputs": [
        {
          "name": "stdout",
          "output_type": "stream",
          "text": [
            "[1, 2, 3, 4, 5, 6, 7, 8, 9]\n",
            "['kim', 'jon', 'dora', 'kely']\n",
            "['horse', 'fox', 'hen', 'cat', 'dog']\n",
            "[1, 3, 4, 5, 'dora', 'kely']\n",
            "[]\n",
            "<class 'list'>\n",
            "4\n",
            "6\n",
            "4th,5th,6th ['cat', 'dog', 'snake', 'lion']\n",
            "4th-->7th ['cat', 'dog', 'snake', 'lion', 'tiger']\n",
            "['snake', 'lion']\n"
          ]
        }
      ],
      "source": [
        "#list is mutable sequence of python objects\n",
        "\n",
        "number=[1,2,3,4,5,6,7,8,9]\n",
        "name=['kim','jon','dora','kely'] #String\n",
        "animals=[\"horse\",'fox','hen','cat','dog']\n",
        "my_list=[1,3,4,5,'dora','kely']\n",
        "my_empty=[]\n",
        "\n",
        "print(number)\n",
        "print(name)\n",
        "print(animals)\n",
        "print(my_list)\n",
        "print(my_empty)\n",
        "\n",
        "#printing types\n",
        "print(type(number))\n",
        "#access items from list\n",
        "\n",
        "print(number[3])\n",
        "print (number[-4]) #negative indexing\n",
        "\n",
        "#slicing\n",
        "animals=[\"horse\",'fox','hen','cat','dog','snake','lion','tiger','loepard']\n",
        "print('4th,5th,6th',animals[3:6])\n",
        "print('4th-->7th',animals[3:7])\n",
        "\n",
        "#negative slicing\n",
        "print(animals[-4:-2])"
      ]
    },
    {
      "cell_type": "code",
      "execution_count": null,
      "metadata": {
        "id": "tlFxM_FwxK8y",
        "outputId": "8f69f790-c755-4545-eb4e-e82e19e46c32"
      },
      "outputs": [
        {
          "name": "stdout",
          "output_type": "stream",
          "text": [
            "[1, 2, 3, 4, 5, 6, 7, 8, 9, 'kim', 'jon', 'dora', 'kely']\n",
            "['kim', 'jon', 'dora', 'kely', 'kim', 'jon', 'dora', 'kely']\n"
          ]
        },
        {
          "ename": "TypeError",
          "evalue": "can't multiply sequence by non-int of type 'list'",
          "output_type": "error",
          "traceback": [
            "\u001b[1;31m---------------------------------------------------------------------------\u001b[0m",
            "\u001b[1;31mTypeError\u001b[0m                                 Traceback (most recent call last)",
            "\u001b[1;32mc:\\Users\\NEW\\Desktop\\python for data science\\list.ipynb Cell 2\u001b[0m in \u001b[0;36m<cell line: 10>\u001b[1;34m()\u001b[0m\n\u001b[0;32m      <a href='vscode-notebook-cell:/c%3A/Users/NEW/Desktop/python%20for%20data%20science/list.ipynb#ch0000001?line=7'>8</a>\u001b[0m \u001b[39m#*operator\u001b[39;00m\n\u001b[0;32m      <a href='vscode-notebook-cell:/c%3A/Users/NEW/Desktop/python%20for%20data%20science/list.ipynb#ch0000001?line=8'>9</a>\u001b[0m \u001b[39mprint\u001b[39m(name\u001b[39m*\u001b[39m\u001b[39m2\u001b[39m)\n\u001b[1;32m---> <a href='vscode-notebook-cell:/c%3A/Users/NEW/Desktop/python%20for%20data%20science/list.ipynb#ch0000001?line=9'>10</a>\u001b[0m \u001b[39mprint\u001b[39m(name\u001b[39m*\u001b[39;49mnew_list)\n",
            "\u001b[1;31mTypeError\u001b[0m: can't multiply sequence by non-int of type 'list'"
          ]
        }
      ],
      "source": [
        "#operators in list\n",
        "number=[1,2,3,4,5,6,7,8,9]\n",
        "name=['kim','jon','dora','kely']\n",
        "\n",
        "new_list=number+name\n",
        "print(new_list)\n",
        "\n",
        "#*operator\n",
        "print(name*2)\n",
        "#print(name*new_list)\n"
      ]
    },
    {
      "cell_type": "code",
      "execution_count": null,
      "metadata": {
        "id": "AglXUxmZxK81"
      },
      "outputs": [],
      "source": [
        ""
      ]
    },
    {
      "cell_type": "code",
      "execution_count": null,
      "metadata": {
        "id": "X_FYcNRvxK83",
        "outputId": "5876b118-7993-41aa-bb4e-4c568d4604ca"
      },
      "outputs": [
        {
          "name": "stdout",
          "output_type": "stream",
          "text": [
            "['kim', 'jon', 'dora', 'kely']\n",
            "4\n"
          ]
        }
      ],
      "source": [
        "#nested list\n",
        "name=[['kim','jon','dora','kely'],[1,2,3,4,5]]\n",
        "print(name[0])\n",
        "print(name[1][3])"
      ]
    },
    {
      "cell_type": "markdown",
      "metadata": {
        "id": "3Mmv9QyjxK85"
      },
      "source": [
        "# list lacture13\n"
      ]
    },
    {
      "cell_type": "code",
      "execution_count": null,
      "metadata": {
        "id": "fMWMJdIWxK9b",
        "outputId": "8feffadb-3d61-4615-911f-b1a4c44966f1"
      },
      "outputs": [
        {
          "name": "stdout",
          "output_type": "stream",
          "text": [
            "[1, 2, 3, 4, 5, 6, 7, 8, 9]\n",
            "['kim', 'jon', 'dora', 'kely']\n",
            "['horse', 'fox', 'hen', 'cat', 'dog', 'lion', 'tiger', 'loepard']\n",
            "After append the list is : None\n"
          ]
        }
      ],
      "source": [
        "#list_methods---pre defined\n",
        "number=[1,2,3,4,5,6,7,8,9]\n",
        "names=['kim','jon','dora','kely']\n",
        "animals=[\"horse\",'fox','hen','cat','dog','lion','tiger','loepard']\n",
        "\n",
        "print(number)\n",
        "print(names)\n",
        "print(animals)\n",
        "\n",
        "#using append\n",
        "print('After append the list is : ',number.append(10))"
      ]
    },
    {
      "cell_type": "code",
      "execution_count": null,
      "metadata": {
        "id": "oVwFFoRqxK9d",
        "outputId": "bbd7cec9-d867-4f3a-9c8a-7e5f1b6f5263"
      },
      "outputs": [
        {
          "name": "stdout",
          "output_type": "stream",
          "text": [
            "[1, 2, 3, 4, 5, 6, 7, 8, 9]\n",
            "After append the list is :  [1, 2, 3, 4, 5, 6, 7, 8, 9, 10]\n"
          ]
        }
      ],
      "source": [
        "#using append\n",
        "number=[1,2,3,4,5,6,7,8,9]\n",
        "print(number)\n",
        "number.append(10)\n",
        "print('After append the list is : ',number)"
      ]
    },
    {
      "cell_type": "code",
      "execution_count": null,
      "metadata": {
        "id": "eCXjmm6lxK9f",
        "outputId": "f7a647c1-69ed-4e0a-89b9-b27c99018d6f"
      },
      "outputs": [
        {
          "name": "stdout",
          "output_type": "stream",
          "text": [
            "['kim', 'jon', 'dora', 'kely', 'peter', 'bobby']\n"
          ]
        }
      ],
      "source": [
        "#using extend() ---for adding more then 1 elements in list\n",
        "print(names)\n",
        "names.extend(['peter','bobby'])"
      ]
    },
    {
      "cell_type": "code",
      "execution_count": null,
      "metadata": {
        "id": "Kh6P2dmjxK9g",
        "outputId": "a78945cd-a01c-40de-ad55-ca81cf776562"
      },
      "outputs": [
        {
          "name": "stdout",
          "output_type": "stream",
          "text": [
            "['kim', 'jon', 'dora', 'Abdul', 'kely', 'peter', 'bobby', 'peter', 'bobby']\n",
            "['kim', 'jon', 'dora', 'Abdul', 'Abdul', 'kely', 'peter', 'bobby', 'peter', 'bobby']\n"
          ]
        }
      ],
      "source": [
        "#insert ()====to add new elements on specific position\n",
        "print(names)\n",
        "names.insert(3,'Abdul')\n",
        "print(names)\n"
      ]
    },
    {
      "cell_type": "markdown",
      "metadata": {
        "id": "k-OUTaiYxK9i"
      },
      "source": [
        "# Lacture 14"
      ]
    },
    {
      "cell_type": "code",
      "execution_count": null,
      "metadata": {
        "scrolled": true,
        "id": "93itd_3LxK9k",
        "outputId": "8460eb3a-f4e6-411b-f08d-8eab0c4fbfb9"
      },
      "outputs": [
        {
          "ename": "SyntaxError",
          "evalue": "invalid syntax (3750221062.py, line 8)",
          "output_type": "error",
          "traceback": [
            "\u001b[1;36m  Input \u001b[1;32mIn [33]\u001b[1;36m\u001b[0m\n\u001b[1;33m    x=del number[2]\u001b[0m\n\u001b[1;37m      ^\u001b[0m\n\u001b[1;31mSyntaxError\u001b[0m\u001b[1;31m:\u001b[0m invalid syntax\n"
          ]
        }
      ],
      "source": [
        "#deleting elements from list\n",
        "number=[1,2,3,4,5,6,7,8,9]\n",
        "animals=[\"horse\",'fox','hen','cat','dog','lion','tiger','loepard']\n",
        "\n",
        "#deleting by index\n",
        "print(number)\n",
        "print('Deleting by Index'.center(30,'-'))\n",
        "del number[2]\n",
        "print(number)\n",
        "\n",
        "print('Deleting by Index'.center(30,'-'))\n",
        "print(animals)\n",
        "del animals[2:4]\n",
        "print(animals)\n",
        "\n",
        "print('Deleting entire list'.center(30,'-'))\n",
        "print(number)\n",
        "del number\n",
        "print(number)\n"
      ]
    },
    {
      "cell_type": "markdown",
      "metadata": {
        "id": "4DkWPrC3xK9m"
      },
      "source": [
        "# Lacture 15"
      ]
    },
    {
      "cell_type": "code",
      "execution_count": null,
      "metadata": {
        "id": "OBQNHdpWxK9p",
        "outputId": "8e475de2-36f2-41a4-fdd3-e8a157c9941c"
      },
      "outputs": [
        {
          "name": "stdout",
          "output_type": "stream",
          "text": [
            "#############POP##############\n",
            "[1, 2, 3, 4, 5, 6, 7, 8, 9]\n",
            "[1, 2, 3, 4, 5, 6, 7, 8]\n",
            "[1, 2, 3, 4, 5, 7, 8]\n"
          ]
        }
      ],
      "source": [
        "#POP \n",
        "numbers=[1,2,3,4,5,6,7,8,9]\n",
        "print('POP'.center(30,'#'))\n",
        "print(numbers)\n",
        "numbers.pop()\n",
        "print(numbers)\n",
        "numbers.pop(5)\n",
        "print(numbers)"
      ]
    },
    {
      "cell_type": "code",
      "execution_count": null,
      "metadata": {
        "scrolled": true,
        "id": "7ymoZ0bCxK9s",
        "outputId": "6cf9ceff-0c56-4816-cf3f-7ea76a420125"
      },
      "outputs": [
        {
          "name": "stdout",
          "output_type": "stream",
          "text": [
            "DElete multiple elements from list--\n",
            "[1, 2, 3, 4, 5, 6, 7]\n",
            "[1, 6, 7]\n"
          ]
        }
      ],
      "source": [
        "print('DElete multiple elements from list--'.center(30,'#'))\n",
        "print(numbers)\n",
        "numbers[1:5]=[] #Assigning blank list\n",
        "print(numbers)"
      ]
    },
    {
      "cell_type": "code",
      "execution_count": null,
      "metadata": {
        "id": "bacB58GgxK9t",
        "outputId": "496707bc-6c96-44fc-c5b4-a85444b0c0e0"
      },
      "outputs": [
        {
          "name": "stdout",
          "output_type": "stream",
          "text": [
            "['jon', 'kely', 'peter', 'bobby', 'peter', 'bobby']\n",
            "[1, 6, 7, 1, 2, 3, 4, 5, 1, 2, 3, 4, 5]\n",
            "The length of list is : 13\n"
          ]
        }
      ],
      "source": [
        "#list methods\n",
        "\n",
        "print(names)\n",
        "#numbers.extend([1,2,3,4,5])\n",
        "print(numbers)\n",
        "print('The length of list is :',len(numbers))"
      ]
    },
    {
      "cell_type": "code",
      "execution_count": null,
      "metadata": {
        "id": "RceranS1xK9v",
        "outputId": "850c5538-3935-479f-d1e6-809f966a2e70"
      },
      "outputs": [
        {
          "name": "stdout",
          "output_type": "stream",
          "text": [
            "[1, 6, 7, 1, 2, 3, 4, 5, 1, 2, 3, 4, 5]\n"
          ]
        }
      ],
      "source": [
        "print(numbers)"
      ]
    },
    {
      "cell_type": "code",
      "execution_count": null,
      "metadata": {
        "id": "Xkv6hIjVxK9w",
        "outputId": "640f6e63-8622-41fa-ec7e-c78dd536e01f"
      },
      "outputs": [
        {
          "name": "stdout",
          "output_type": "stream",
          "text": [
            "[1, 2, 3, 4, 5, 6]\n",
            "[1, 2, 3, 4, 5, 6, 1, 2, 3, 4, 6, 5]\n",
            "Length of Given list is : 12\n",
            "[1, 2, 3, 4, 5, 6, 1, 2, 3, 4, 6, 5]\n",
            "count of specific item : 2\n"
          ]
        }
      ],
      "source": [
        "number=[1,2,3,4,5,6]\n",
        "print(number)\n",
        "number.extend([1,2,3,4,6,5])\n",
        "print(number)\n",
        "print('Length of Given list is :',len(number))\n",
        "\n",
        "#count \n",
        "print(number)\n",
        "print('count of specific item :',number.count(1))\n"
      ]
    },
    {
      "cell_type": "code",
      "execution_count": null,
      "metadata": {
        "id": "wkPiwM06xK9y",
        "outputId": "49205d8e-bfe4-4027-c924-4f9b6badd3aa"
      },
      "outputs": [
        {
          "name": "stdout",
          "output_type": "stream",
          "text": [
            "[1, 2, 3, 4, 5, 6, 1, 2, 3, 4, 6, 5]\n",
            "count of specific item : 0\n"
          ]
        }
      ],
      "source": [
        "\n",
        "#count \n",
        "print(number)\n",
        "print('count of specific item :',number.count('1'))"
      ]
    },
    {
      "cell_type": "code",
      "execution_count": null,
      "metadata": {
        "id": "y70Bv0I5xK9z",
        "outputId": "c70c660b-9c9f-4204-9d39-9a24379ff9db"
      },
      "outputs": [
        {
          "name": "stdout",
          "output_type": "stream",
          "text": [
            "[1, 2, 3, 4, 5, 7, 8]\n"
          ]
        }
      ],
      "source": [
        "#reverse\n",
        "\n",
        "print(numbers)\n",
        "numbers.reverse()\n"
      ]
    },
    {
      "cell_type": "markdown",
      "metadata": {
        "id": "63nW3sMSxK91"
      },
      "source": [
        "# Lacture 16"
      ]
    },
    {
      "cell_type": "code",
      "execution_count": null,
      "metadata": {
        "id": "U1EuIP1gxK92",
        "outputId": "a0d9ab6f-044f-4742-d0bf-9e8ba4bf319a"
      },
      "outputs": [
        {
          "name": "stdout",
          "output_type": "stream",
          "text": [
            "[1, 2, 3, 4, 5, 6, 7, 8, 9]\n",
            "[9, 8, 7, 6, 5, 4, 3, 2, 1]\n"
          ]
        }
      ],
      "source": [
        "#sort\n",
        "numberss=[1,2,3,4,5,6,7,8,9]\n",
        "namess=[\"kim\",'trump','Danny','terri','Nikki','john']\n",
        "\n",
        "'''numberss.sort()\n",
        "numberss.reverse()'''\n",
        "print(numberss)\n",
        "numberss.sort(reverse=True)\n",
        "print(numberss)\n",
        "\n"
      ]
    },
    {
      "cell_type": "code",
      "execution_count": null,
      "metadata": {
        "id": "rRtxCcLNxK93",
        "outputId": "046b545f-b77d-485c-d09c-8b55ac5ccf3b"
      },
      "outputs": [
        {
          "name": "stdout",
          "output_type": "stream",
          "text": [
            "[9, 8, 7, 6, 5, 4, 3, 2, 1]\n",
            "After copying --> [9, 8, 7, 6, 5, 4, 3, 2] [9, 8, 7, 6, 5, 4, 3, 2]\n"
          ]
        }
      ],
      "source": [
        "#copying A list\n",
        "print(numberss)\n",
        "numberss_new=numberss\n",
        "numberss.pop()\n",
        "print('After copying -->',numberss_new,numberss)"
      ]
    },
    {
      "cell_type": "code",
      "execution_count": null,
      "metadata": {
        "id": "HsaPIyxhxK95",
        "outputId": "b747f1ca-2e91-46bf-fccd-55306d9d9b6d"
      },
      "outputs": [
        {
          "name": "stdout",
          "output_type": "stream",
          "text": [
            "[1, 2, 3, 4, 5, 6, 7, 8, 9]\n"
          ]
        }
      ],
      "source": [
        "#copying a list using copy()\n",
        "numbersss=[1,2,3,4,5,6,7,8,9]\n",
        "numberss_neww=numbersss.copy()\n",
        "print(numberss_neww)"
      ]
    },
    {
      "cell_type": "code",
      "execution_count": null,
      "metadata": {
        "id": "IkgiI_ItxK98",
        "outputId": "337d9b3a-e13a-4e3d-9bed-51426ec255fb"
      },
      "outputs": [
        {
          "name": "stdout",
          "output_type": "stream",
          "text": [
            "____________using in operator :_____________\n",
            "True\n",
            "False\n"
          ]
        }
      ],
      "source": [
        "#membership operator\n",
        "names=['john','kim','kelify','dora']\n",
        "#check dora in list\n",
        "\n",
        "print('using in operator :'.center(44,'_'))\n",
        "print(\"dora\" in names)\n",
        "names=['john','kim','kelify','dora']\n",
        "print(\"dora\" not in names)"
      ]
    }
  ],
  "metadata": {
    "kernelspec": {
      "display_name": "Python 3 (ipykernel)",
      "language": "python",
      "name": "python3"
    },
    "language_info": {
      "codemirror_mode": {
        "name": "ipython",
        "version": 3
      },
      "file_extension": ".py",
      "mimetype": "text/x-python",
      "name": "python",
      "nbconvert_exporter": "python",
      "pygments_lexer": "ipython3",
      "version": "3.9.12"
    },
    "vscode": {
      "interpreter": {
        "hash": "877cfeaf7e69e85e669dcf8e78e76fea2b55505619de76de36ab5b5c88ff0072"
      }
    },
    "colab": {
      "name": "list_11_12th_lact.ipynb",
      "provenance": [],
      "include_colab_link": true
    }
  },
  "nbformat": 4,
  "nbformat_minor": 0
}