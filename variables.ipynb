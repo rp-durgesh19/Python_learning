{
  "cells": [
    {
      "cell_type": "markdown",
      "metadata": {
        "id": "view-in-github",
        "colab_type": "text"
      },
      "source": [
        "<a href=\"https://colab.research.google.com/github/dreamer561/Python/blob/main/variables.ipynb\" target=\"_parent\"><img src=\"https://colab.research.google.com/assets/colab-badge.svg\" alt=\"Open In Colab\"/></a>"
      ]
    },
    {
      "cell_type": "code",
      "execution_count": null,
      "id": "d11a0941",
      "metadata": {
        "id": "d11a0941",
        "outputId": "7451b7c9-5600-4d63-c403-81f368562828"
      },
      "outputs": [
        {
          "name": "stdout",
          "output_type": "stream",
          "text": [
            "hello world\n",
            "<class 'str'>\n",
            "hello world\n",
            "<class 'str'>\n",
            "hello world\n",
            "<class 'str'>\n",
            "hello world\n",
            "<class 'int'>\n",
            "10.5\n",
            "<class 'float'>\n",
            "True\n",
            "<class 'bool'>\n",
            "[10, 20, 30]\n",
            "<class 'list'>\n",
            "{10, 20, 30}\n",
            "<class 'set'>\n",
            "(10, 20, 30)\n",
            "<class 'tuple'>\n"
          ]
        }
      ],
      "source": [
        "#data type inferance  rule\n",
        "#Pyton variables --\n",
        "\n",
        "a='hello world'\n",
        "a1=\"hello world\"\n",
        "a2='''hello world'''\n",
        "a3=\"\"\"hello world\"\"\"\n",
        "a4=10\n",
        "a5=10.5\n",
        "a6=True\n",
        "a7=[10,20,30]\n",
        "a8={10,20,30}\n",
        "#a9={a:10,'b':20,c:30}\n",
        "a10=(10,20,30)\n",
        "\n",
        "print(a)\n",
        "print(type(a))\n",
        "\n",
        "print(a1)\n",
        "print(type(a))\n",
        "\n",
        "print(a2)\n",
        "print(type(a2))\n",
        "\n",
        "print(a3)\n",
        "print(type(a4))\n",
        "\n",
        "print(a5)\n",
        "print(type(a5))\n",
        "\n",
        "print(a6)\n",
        "print(type(a6))\n",
        "\n",
        "print(a7)\n",
        "print(type(a7))\n",
        "\n",
        "print(a8)\n",
        "print(type(a8))\n",
        "\n",
        "#print(a9)\n",
        "#print(type(a9))\n",
        "\n",
        "print(a10)\n",
        "print(type(a10))\n"
      ]
    },
    {
      "cell_type": "code",
      "execution_count": null,
      "id": "6bc82394",
      "metadata": {
        "id": "6bc82394",
        "outputId": "4d739605-594b-4552-c6a1-5c65a7e8127a"
      },
      "outputs": [
        {
          "name": "stdout",
          "output_type": "stream",
          "text": [
            "Addition   = 18\n",
            "Subtraction   = 2\n",
            "Multiplication  = 80\n",
            "Square   = 100000000\n",
            "Division   = 1.25\n",
            "Division  = 1\n",
            "Mudulo  = 2\n",
            "======================================================\n"
          ]
        }
      ],
      "source": [
        "#Arthematic operators\n",
        "\n",
        "a=10\n",
        "b=8\n",
        "\n",
        "print(\"Addition   =\",a+b)\n",
        "print(\"Subtraction   =\",a-b)\n",
        "print(\"Multiplication  =\",a*b)\n",
        "print(\"Square   =\",a**b)\n",
        "print(\"Division   =\",a/b)\n",
        "print(\"Division  =\",a//b)\n",
        "print(\"Mudulo  =\",a%b)\n",
        "\n",
        "\n",
        "print('======================================================')\n",
        "\n",
        "\n"
      ]
    },
    {
      "cell_type": "code",
      "execution_count": null,
      "id": "f597a1b6",
      "metadata": {
        "id": "f597a1b6",
        "outputId": "9e276f84-36a6-4423-8335-20743cbcfc1c"
      },
      "outputs": [
        {
          "name": "stdout",
          "output_type": "stream",
          "text": [
            "False\n",
            "True\n",
            "True\n",
            "False\n",
            "False\n",
            "True\n",
            "True\n",
            "False\n",
            "False\n",
            "False\n",
            "True\n",
            "True\n"
          ]
        }
      ],
      "source": [
        "print(a<b)\n",
        "print(b<a)\n",
        "print(a>b)\n",
        "print(b>a)\n",
        "print(a<=b)\n",
        "print(b<=a)\n",
        "print(a>=b)\n",
        "print(b>=a)\n",
        "print(a==b)\n",
        "print(b==a)\n",
        "print(a!=b)\n",
        "print(b!=a)\n",
        "\n"
      ]
    },
    {
      "cell_type": "code",
      "execution_count": null,
      "id": "5b27283b",
      "metadata": {
        "id": "5b27283b"
      },
      "outputs": [],
      "source": [
        ""
      ]
    }
  ],
  "metadata": {
    "kernelspec": {
      "display_name": "Python 3 (ipykernel)",
      "language": "python",
      "name": "python3"
    },
    "language_info": {
      "codemirror_mode": {
        "name": "ipython",
        "version": 3
      },
      "file_extension": ".py",
      "mimetype": "text/x-python",
      "name": "python",
      "nbconvert_exporter": "python",
      "pygments_lexer": "ipython3",
      "version": "3.9.12"
    },
    "colab": {
      "name": "variables.ipynb",
      "provenance": [],
      "include_colab_link": true
    }
  },
  "nbformat": 4,
  "nbformat_minor": 5
}