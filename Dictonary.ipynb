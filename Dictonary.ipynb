{
  "nbformat": 4,
  "nbformat_minor": 0,
  "metadata": {
    "colab": {
      "name": "Dictonary.ipynb",
      "provenance": [],
      "collapsed_sections": [],
      "authorship_tag": "ABX9TyOjSuzzPSz3/pAuJ5Dgoo6Q",
      "include_colab_link": true
    },
    "kernelspec": {
      "name": "python3",
      "display_name": "Python 3"
    },
    "language_info": {
      "name": "python"
    }
  },
  "cells": [
    {
      "cell_type": "markdown",
      "metadata": {
        "id": "view-in-github",
        "colab_type": "text"
      },
      "source": [
        "<a href=\"https://colab.research.google.com/github/dreamer561/Python/blob/main/Dictonary.ipynb\" target=\"_parent\"><img src=\"https://colab.research.google.com/assets/colab-badge.svg\" alt=\"Open In Colab\"/></a>"
      ]
    },
    {
      "cell_type": "code",
      "execution_count": null,
      "metadata": {
        "id": "gNBvKpAixXez",
        "colab": {
          "base_uri": "https://localhost:8080/"
        },
        "outputId": "ca3945db-d3d4-4294-b3ae-47d8fe8ca940"
      },
      "outputs": [
        {
          "output_type": "stream",
          "name": "stdout",
          "text": [
            "{1: 'apple', 2: 'Banana', 3: 'Grapes', 4: 'kiwi'}\n"
          ]
        }
      ],
      "source": [
        "#Dictonary\n",
        "#Dictonary with integer keys\n",
        "dict_fruits={\n",
        "    1:'apple',\n",
        "    2:'Banana',\n",
        "    3:'Grapes',\n",
        "    4:'kiwi',\n",
        "}\n",
        "print(dict_fruits)\n"
      ]
    },
    {
      "cell_type": "code",
      "source": [
        "#Accessing elements from dict\n",
        "dict_fruits[1]"
      ],
      "metadata": {
        "colab": {
          "base_uri": "https://localhost:8080/",
          "height": 36
        },
        "id": "Wanv0kEFH272",
        "outputId": "5c987af5-75e9-4ba3-f3a5-8bf2ceef5389"
      },
      "execution_count": null,
      "outputs": [
        {
          "output_type": "execute_result",
          "data": {
            "text/plain": [
              "'apple'"
            ],
            "application/vnd.google.colaboratory.intrinsic+json": {
              "type": "string"
            }
          },
          "metadata": {},
          "execution_count": 3
        }
      ]
    },
    {
      "cell_type": "code",
      "source": [
        "#dictonary with string keys\n",
        "dict_demo_info={\n",
        "    'name':'john carter',\n",
        "    'department':'IT',\n",
        "    'dob':'02/01/1996',\n",
        "    'salary':60000\n",
        "}\n",
        "print(dict_demo_info)\n",
        "\n",
        "print('dIctonary info :-- AS \\n name of Employee :{} \\n department of employee : {}\\n Date of birth of employee :{}\\n Salary of EMployee : {}'.format(dict_demo_info['name'],dict_demo_info['department'],dict_demo_info['dob'],dict_demo_info['salary']))\n",
        "\n",
        "#print(['dict_demo_ingo : {}\\nDepartmentof Employee : {}\\nDAte of birth of employee : {}\\n Salary of Employee : {}'.format(dict_demo_ingo['name'],dict_demo_ingo['department'],dict_demo_ingo['dob'],dict_demo_ingo['Salary']])"
      ],
      "metadata": {
        "colab": {
          "base_uri": "https://localhost:8080/"
        },
        "id": "k-tAitVcIJzM",
        "outputId": "14d78487-cd3f-4a3c-afdb-a99541c8db00"
      },
      "execution_count": null,
      "outputs": [
        {
          "output_type": "stream",
          "name": "stdout",
          "text": [
            "{'name': 'john carter', 'department': 'IT', 'dob': '02/01/1996', 'salary': 60000}\n",
            "dIctonary info :-- AS \n",
            " name of Employee :john carter \n",
            " department of employee : IT\n",
            " Date of birth of employee :02/01/1996\n",
            " Salary of EMployee : 60000\n"
          ]
        }
      ]
    },
    {
      "cell_type": "code",
      "source": [
        "print('Dictonary with mixed keys :'.center(44,'_'))\n",
        "dict_mixed={\n",
        "    'course':'python',\n",
        "    1001:'course code',\n",
        "    'list':['course','django',3]\n",
        "\n",
        "}\n",
        "print(dict_mixed)"
      ],
      "metadata": {
        "colab": {
          "base_uri": "https://localhost:8080/"
        },
        "id": "1jZpg8NqMwPh",
        "outputId": "8cabb4a5-bb50-427f-d485-4333b8ba4aae"
      },
      "execution_count": null,
      "outputs": [
        {
          "output_type": "stream",
          "name": "stdout",
          "text": [
            "________Dictonary with mixed keys :_________\n",
            "{'course': 'python', 1001: 'course code', 'list': ['course', 'django', 3]}\n"
          ]
        }
      ]
    },
    {
      "cell_type": "markdown",
      "source": [
        "lacture 24"
      ],
      "metadata": {
        "id": "m0cJ4lL-N965"
      }
    },
    {
      "cell_type": "code",
      "source": [
        "dict_emp_ids={\n",
        "    'id01':'john page',\n",
        "    'id02':'david thompson',\n",
        "    'id03':'terry gao',\n",
        "    'id04':'barry tax'\n",
        "}\n",
        "dict_emp_info={\n",
        "    'name':'john page',\n",
        "    'dep':'it',\n",
        "    'dob':'12\\01\\1990',\n",
        "    'salary':'60$'\n",
        "}\n",
        "print(dict_emp_ids,dict_demo_info)\n"
      ],
      "metadata": {
        "colab": {
          "base_uri": "https://localhost:8080/"
        },
        "id": "IiAbLXI5N8Cy",
        "outputId": "51b61b2b-5a18-414a-ed66-7de9e78cc284"
      },
      "execution_count": null,
      "outputs": [
        {
          "output_type": "stream",
          "name": "stdout",
          "text": [
            "{'id01': 'john page', 'id02': 'david thompson', 'id03': 'terry gao', 'id04': 'barry tax'} {'name': 'john carter', 'department': 'IT', 'dob': '02/01/1996', 'salary': 60000}\n"
          ]
        }
      ]
    },
    {
      "cell_type": "code",
      "source": [
        "#example\n",
        "emp_id='id02'\n",
        "if emp_id in dict_emp_ids:\n",
        "  print('Employee exists in dictonary') "
      ],
      "metadata": {
        "colab": {
          "base_uri": "https://localhost:8080/"
        },
        "id": "jdi9M7XsQuKX",
        "outputId": "800b08f0-b56d-46c1-fb85-d68255f35f1b"
      },
      "execution_count": null,
      "outputs": [
        {
          "output_type": "stream",
          "name": "stdout",
          "text": [
            "Employee exists in dictonary\n"
          ]
        }
      ]
    },
    {
      "cell_type": "code",
      "source": [
        "#get mmethod\n",
        "name=dict_emp_info.get('name');\n",
        "print(name)\n",
        "department=dict_emp_info.get('dep')\n",
        "print(department)"
      ],
      "metadata": {
        "colab": {
          "base_uri": "https://localhost:8080/"
        },
        "id": "JwoDuOaHSOLr",
        "outputId": "87d73b6b-96d5-4deb-a9d7-d6c2357677ec"
      },
      "execution_count": null,
      "outputs": [
        {
          "output_type": "stream",
          "name": "stdout",
          "text": [
            "john page\n",
            "it\n"
          ]
        }
      ]
    },
    {
      "cell_type": "markdown",
      "source": [
        "Lacture 25"
      ],
      "metadata": {
        "id": "ctdHE8r-TIN4"
      }
    },
    {
      "cell_type": "code",
      "source": [
        "#to delete entire dictonary\n",
        "dict_emp_info={\n",
        "    'name':'john page',\n",
        "    'dep':'it',\n",
        "    'dob':'12\\01\\1990',\n",
        "    'salary':'60$'\n",
        "}\n",
        "del dict_emp_info\n",
        "print(dict_emp_info)"
      ],
      "metadata": {
        "colab": {
          "base_uri": "https://localhost:8080/",
          "height": 200
        },
        "id": "X8BbNGt5TBOw",
        "outputId": "bc715849-95e7-457a-9413-3df395ad1f25"
      },
      "execution_count": null,
      "outputs": [
        {
          "output_type": "error",
          "ename": "NameError",
          "evalue": "ignored",
          "traceback": [
            "\u001b[0;31m---------------------------------------------------------------------------\u001b[0m",
            "\u001b[0;31mNameError\u001b[0m                                 Traceback (most recent call last)",
            "\u001b[0;32m<ipython-input-25-e089d45fd355>\u001b[0m in \u001b[0;36m<module>\u001b[0;34m()\u001b[0m\n\u001b[1;32m      7\u001b[0m }\n\u001b[1;32m      8\u001b[0m \u001b[0;32mdel\u001b[0m \u001b[0mdict_emp_info\u001b[0m\u001b[0;34m\u001b[0m\u001b[0;34m\u001b[0m\u001b[0m\n\u001b[0;32m----> 9\u001b[0;31m \u001b[0mprint\u001b[0m\u001b[0;34m(\u001b[0m\u001b[0mdict_emp_info\u001b[0m\u001b[0;34m)\u001b[0m\u001b[0;34m\u001b[0m\u001b[0;34m\u001b[0m\u001b[0m\n\u001b[0m",
            "\u001b[0;31mNameError\u001b[0m: name 'dict_emp_info' is not defined"
          ]
        }
      ]
    },
    {
      "cell_type": "code",
      "source": [
        "#deleting specific item\n",
        "dict_emp_info={\n",
        "    'name':'john page',\n",
        "    'dep':'it',\n",
        "    'dob':'12\\01\\1990',\n",
        "    'salary':'60$'\n",
        "}\n",
        "del dict_emp_info['dep']\n",
        "print(dict_emp_info)"
      ],
      "metadata": {
        "id": "8XoPSX9SUcCr",
        "colab": {
          "base_uri": "https://localhost:8080/"
        },
        "outputId": "07e5c4ad-e980-408f-d0ba-5b238b1a5d39"
      },
      "execution_count": null,
      "outputs": [
        {
          "output_type": "stream",
          "name": "stdout",
          "text": [
            "{'name': 'john page', 'dob': '12\\x01\\x01990', 'salary': '60$'}\n"
          ]
        }
      ]
    },
    {
      "cell_type": "code",
      "source": [
        "#pop\n",
        "dict_emp_info.pop('name')\n",
        "print(dict_emp_info)"
      ],
      "metadata": {
        "colab": {
          "base_uri": "https://localhost:8080/",
          "height": 200
        },
        "id": "nTNijMk4V5sq",
        "outputId": "f32588d0-848e-4560-c90f-eddbe0a2628d"
      },
      "execution_count": null,
      "outputs": [
        {
          "output_type": "error",
          "ename": "KeyError",
          "evalue": "ignored",
          "traceback": [
            "\u001b[0;31m---------------------------------------------------------------------------\u001b[0m",
            "\u001b[0;31mKeyError\u001b[0m                                  Traceback (most recent call last)",
            "\u001b[0;32m<ipython-input-32-5ff2a3d9d37f>\u001b[0m in \u001b[0;36m<module>\u001b[0;34m()\u001b[0m\n\u001b[1;32m      1\u001b[0m \u001b[0;31m#pop\u001b[0m\u001b[0;34m\u001b[0m\u001b[0;34m\u001b[0m\u001b[0;34m\u001b[0m\u001b[0m\n\u001b[0;32m----> 2\u001b[0;31m \u001b[0mdict_emp_info\u001b[0m\u001b[0;34m.\u001b[0m\u001b[0mpop\u001b[0m\u001b[0;34m(\u001b[0m\u001b[0;34m'name'\u001b[0m\u001b[0;34m)\u001b[0m\u001b[0;34m\u001b[0m\u001b[0;34m\u001b[0m\u001b[0m\n\u001b[0m\u001b[1;32m      3\u001b[0m \u001b[0mprint\u001b[0m\u001b[0;34m(\u001b[0m\u001b[0mdict_emp_info\u001b[0m\u001b[0;34m)\u001b[0m\u001b[0;34m\u001b[0m\u001b[0;34m\u001b[0m\u001b[0m\n",
            "\u001b[0;31mKeyError\u001b[0m: 'name'"
          ]
        }
      ]
    },
    {
      "cell_type": "code",
      "source": [
        "# without delete / clearing dictonary\n",
        "dict_emp_info={\n",
        "    'name':'john page',\n",
        "    'dep':'it',\n",
        "    'dob':'12\\01\\1990',\n",
        "    'salary':'60$'\n",
        "}\n",
        "dict_emp_info.clear()\n",
        "print(dict_emp_info)"
      ],
      "metadata": {
        "colab": {
          "base_uri": "https://localhost:8080/"
        },
        "id": "BqokuEmiWic8",
        "outputId": "5ed19fa8-f735-4e37-e531-4601662810d4"
      },
      "execution_count": null,
      "outputs": [
        {
          "output_type": "stream",
          "name": "stdout",
          "text": [
            "{}\n"
          ]
        }
      ]
    },
    {
      "cell_type": "code",
      "source": [
        "#iterrating a dictonary\n",
        "#only keys\n",
        "dict_emp_info={\n",
        "    'name':'john page',\n",
        "    'dep':'it',\n",
        "    'dob':'12\\01\\1990',\n",
        "    'salary':'60$'\n",
        "}\n",
        "\n",
        "emp_keys=dict_emp_info.keys()\n",
        "print(emp_keys)\n",
        "\n",
        "#keys()and vlues() are two methods\n",
        "\n",
        "for dictonary in dict_emp_info.keys():\n",
        "  print(dictonary + \" : \" + dict_emp_info[dictonary])"
      ],
      "metadata": {
        "colab": {
          "base_uri": "https://localhost:8080/"
        },
        "id": "xIUFIK6qYCBk",
        "outputId": "f2a9173b-05ea-4e02-efa7-9b6603d886d8"
      },
      "execution_count": null,
      "outputs": [
        {
          "output_type": "stream",
          "name": "stdout",
          "text": [
            "dict_keys(['name', 'dep', 'dob', 'salary'])\n",
            "name : john page\n",
            "dep : it\n",
            "dob : 12\u0001\u0001990\n",
            "salary : 60$\n"
          ]
        }
      ]
    },
    {
      "cell_type": "markdown",
      "source": [
        "**Lacture 26**"
      ],
      "metadata": {
        "id": "dtdmjdGFavs7"
      }
    },
    {
      "cell_type": "code",
      "source": [
        "#dictonary loop Through\n",
        "#dictonary with String keys\n",
        "\n",
        "print('dictonary with String keys'.center(30,\"_\"))\n",
        "\n",
        "dict_emp_ids={\n",
        "    'id01':'john page',\n",
        "    'id02':'david thompson',\n",
        "    'id03':'terry gao',\n",
        "    'id04':'barry tax'\n",
        "}\n",
        "#keys()\n",
        "dict_emp_ids_key=dict_emp_ids.keys()\n",
        "print(dict_emp_ids_key,type(dict_emp_ids_key))\n",
        "#values\n",
        "\n",
        "dict_emp_ids_key=dict_emp_ids.values()\n",
        "print(dict_emp_ids_key,type(dict_emp_ids_key))\n",
        "\n",
        "#loop through keys,values\n",
        "for empids in dict_emp_ids.keys():\n",
        "  print(empids + \" : \"+ dict_emp_ids[empids])\n",
        "\n",
        "#items\n",
        "print(dict_emp_ids.items())\n",
        "\n",
        "for empid,empname in dict_emp_ids.items():\n",
        "  print(empid +\" : \"+empname)\n",
        "\n",
        "del dict_emp_ids['id01']\n",
        "print(dict_emp_ids)\n",
        "dict_emp_ids.clear()\n",
        "print(dict_emp_ids)\n",
        "\n"
      ],
      "metadata": {
        "colab": {
          "base_uri": "https://localhost:8080/"
        },
        "id": "9Zw_E8Qha0Lm",
        "outputId": "0df4e635-a912-492e-97bb-d5a9e3722e56"
      },
      "execution_count": null,
      "outputs": [
        {
          "output_type": "stream",
          "name": "stdout",
          "text": [
            "__dictonary with String keys__\n",
            "dict_keys(['id01', 'id02', 'id03', 'id04']) <class 'dict_keys'>\n",
            "dict_values(['john page', 'david thompson', 'terry gao', 'barry tax']) <class 'dict_values'>\n",
            "id01 : john page\n",
            "id02 : david thompson\n",
            "id03 : terry gao\n",
            "id04 : barry tax\n",
            "dict_items([('id01', 'john page'), ('id02', 'david thompson'), ('id03', 'terry gao'), ('id04', 'barry tax')])\n",
            "id01 : john page\n",
            "id02 : david thompson\n",
            "id03 : terry gao\n",
            "id04 : barry tax\n",
            "{'id02': 'david thompson', 'id03': 'terry gao', 'id04': 'barry tax'}\n",
            "{}\n"
          ]
        }
      ]
    },
    {
      "cell_type": "code",
      "source": [
        "#dict_pract\n",
        "\n",
        "group1={\n",
        "    'name':'Group1',\n",
        "    'Location':'gorakhpur',\n",
        "    'Members':34,\n",
        "    'type':'Self operated'\n",
        "}\n",
        "print(group1)\n",
        "for group in group1:\n",
        "  print(group,' ',group1[group])"
      ],
      "metadata": {
        "colab": {
          "base_uri": "https://localhost:8080/"
        },
        "id": "Hr2zD35kfofn",
        "outputId": "efd5837b-747f-44c7-c391-448b9303d9e6"
      },
      "execution_count": null,
      "outputs": [
        {
          "output_type": "stream",
          "name": "stdout",
          "text": [
            "{'name': 'Group1', 'Location': 'gorakhpur', 'Members': 34, 'type': 'Self operated'}\n",
            "name   Group1\n",
            "Location   gorakhpur\n",
            "Members   34\n",
            "type   Self operated\n"
          ]
        }
      ]
    },
    {
      "cell_type": "markdown",
      "source": [
        "**Lacture27**"
      ],
      "metadata": {
        "id": "H2bOpJeMk4AQ"
      }
    },
    {
      "cell_type": "code",
      "source": [
        "#Converting Dictonary keys to list\n",
        "\n",
        "dict_airport_code_to_city={\n",
        "                            'yax':'Zeddah,Saudi Arebia',\n",
        "                            'ybx':'abbostford,canada',\n",
        "                            'ycx':'Aberdeen,Scotland',\n",
        "                            'ydx':'kushinagar,india',\n",
        "                            'yex':'Entibia,uganda',\n",
        "                            'yfx':'bangladesh,bangladesh'\n",
        "                            }\n",
        "  \n",
        "print(dict_airport_code_to_city)\n"
      ],
      "metadata": {
        "colab": {
          "base_uri": "https://localhost:8080/"
        },
        "id": "V9-wHLu6k8Nv",
        "outputId": "41d1157b-6027-4584-d2b3-1b6557a408d4"
      },
      "execution_count": null,
      "outputs": [
        {
          "output_type": "stream",
          "name": "stdout",
          "text": [
            "{'yax': 'Zeddah,Saudi Arebia', 'ybx': 'abbostford,canada', 'ycx': 'Aberdeen,Scotland', 'ydx': 'kushinagar,india', 'yex': 'Entibia,uganda', 'yfx': 'bangladesh,bangladesh'}\n"
          ]
        }
      ]
    },
    {
      "cell_type": "code",
      "source": [
        "airport_codes=dict_airport_code_to_city.keys()\n",
        "print(type(airport_codes))\n",
        "\n",
        "airport_codes=list(dict_airport_code_to_city.keys())\n",
        "print(airport_codes)\n",
        "print(type(airport_codes))\n",
        "#sorting\n",
        "airport_codes.sort(reverse=True)\n",
        "print(airport_codes)\n"
      ],
      "metadata": {
        "colab": {
          "base_uri": "https://localhost:8080/"
        },
        "id": "MqZt0Gb1mkyK",
        "outputId": "3695f39e-52f5-4f43-983e-01db1c8ebbab"
      },
      "execution_count": null,
      "outputs": [
        {
          "output_type": "stream",
          "name": "stdout",
          "text": [
            "<class 'dict_keys'>\n",
            "['yax', 'ybx', 'ycx', 'ydx', 'yex', 'yfx']\n",
            "<class 'list'>\n",
            "['yfx', 'yex', 'ydx', 'ycx', 'ybx', 'yax']\n"
          ]
        }
      ]
    },
    {
      "cell_type": "code",
      "source": [
        "#convert list to dictonary and tuple to dictonary\n",
        "employee_list=[['101','john'],['102','bobby'],['103','albert'],['104','rocky']]\n",
        "print(employee_list)\n",
        "\n",
        "new_tuple=tuple(employee_list)\n",
        "\n",
        "employee_list1=dict(employee_list)\n",
        "print(employee_list1)\n",
        "\n",
        "#tuple\n",
        "new_tuple=tuple(employee_list)\n",
        "print(new_tuple)\n",
        "new_tuple_dict=dict(new_tuple)\n",
        "print(new_tuple_dict)\n",
        "\n"
      ],
      "metadata": {
        "colab": {
          "base_uri": "https://localhost:8080/"
        },
        "id": "MXVrfymaooJ5",
        "outputId": "5bb6284d-5d23-4c4a-c7f8-ce180a8024a1"
      },
      "execution_count": null,
      "outputs": [
        {
          "output_type": "stream",
          "name": "stdout",
          "text": [
            "[['101', 'john'], ['102', 'bobby'], ['103', 'albert'], ['104', 'rocky']]\n",
            "{'101': 'john', '102': 'bobby', '103': 'albert', '104': 'rocky'}\n",
            "(['101', 'john'], ['102', 'bobby'], ['103', 'albert'], ['104', 'rocky'])\n",
            "{'101': 'john', '102': 'bobby', '103': 'albert', '104': 'rocky'}\n"
          ]
        }
      ]
    },
    {
      "cell_type": "code",
      "source": [
        "#dictonary methods\n",
        "dict_emp_ids={\n",
        "    'id01':'john page',\n",
        "    'id02':'david thompson',\n",
        "    'id03':'terry gao',\n",
        "    'id04':'barry tax'\n",
        "}\n",
        "print(dict_emp_ids)\n",
        "\n",
        "#copy() methods\n",
        "dict_emp_ids_new=dict_emp_ids.copy()\n",
        "print(dict_emp_ids_new)\n",
        "\n"
      ],
      "metadata": {
        "colab": {
          "base_uri": "https://localhost:8080/"
        },
        "id": "5OeQBkP0rPfl",
        "outputId": "35a6c505-d600-4e4a-e9e7-6ac1e021595a"
      },
      "execution_count": null,
      "outputs": [
        {
          "output_type": "stream",
          "name": "stdout",
          "text": [
            "{'id01': 'john page', 'id02': 'david thompson', 'id03': 'terry gao', 'id04': 'barry tax'}\n",
            "{'id01': 'john page', 'id02': 'david thompson', 'id03': 'terry gao', 'id04': 'barry tax'}\n"
          ]
        }
      ]
    },
    {
      "cell_type": "code",
      "source": [
        "#fromkeys() methods\n",
        "\n",
        "mykeys={1,2,3,4,5,6}\n",
        "dictonary=dict.fromkeys(mykeys)\n",
        "print(dictonary)"
      ],
      "metadata": {
        "colab": {
          "base_uri": "https://localhost:8080/"
        },
        "id": "TUVLRZtasekX",
        "outputId": "18db0984-43ff-4ab0-a373-37fa6e318686"
      },
      "execution_count": null,
      "outputs": [
        {
          "output_type": "stream",
          "name": "stdout",
          "text": [
            "{1: None, 2: None, 3: None, 4: None, 5: None, 6: None}\n"
          ]
        }
      ]
    },
    {
      "cell_type": "code",
      "source": [
        "#fromkeys() method\n",
        "\n",
        "mykeys={1,2,3,4,5,6}\n",
        "dictonary=dict.fromkeys(mykeys,'Default_values')#fromkeys expected at most 2 arguments, got 3\n",
        "print(dictonary)"
      ],
      "metadata": {
        "colab": {
          "base_uri": "https://localhost:8080/"
        },
        "id": "-WafqZQ0soW5",
        "outputId": "0c5f2962-bc7e-4289-ec54-79db9d600da8"
      },
      "execution_count": null,
      "outputs": [
        {
          "output_type": "stream",
          "name": "stdout",
          "text": [
            "{1: 'Default_values', 2: 'Default_values', 3: 'Default_values', 4: 'Default_values', 5: 'Default_values', 6: 'Default_values'}\n"
          ]
        }
      ]
    },
    {
      "cell_type": "code",
      "source": [
        ""
      ],
      "metadata": {
        "id": "CFnlBJAkt3Th"
      },
      "execution_count": null,
      "outputs": []
    },
    {
      "cell_type": "code",
      "source": [
        ""
      ],
      "metadata": {
        "id": "VKKwbQGktMz-"
      },
      "execution_count": null,
      "outputs": []
    }
  ]
}