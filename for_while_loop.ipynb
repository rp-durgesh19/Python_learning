{
  "cells": [
    {
      "cell_type": "markdown",
      "metadata": {
        "id": "view-in-github",
        "colab_type": "text"
      },
      "source": [
        "<a href=\"https://colab.research.google.com/github/dreamer561/Python/blob/main/for_while_loop.ipynb\" target=\"_parent\"><img src=\"https://colab.research.google.com/assets/colab-badge.svg\" alt=\"Open In Colab\"/></a>"
      ]
    },
    {
      "cell_type": "code",
      "execution_count": null,
      "id": "735550d3",
      "metadata": {
        "id": "735550d3"
      },
      "outputs": [],
      "source": [
        "#for loop\n",
        "\n"
      ]
    },
    {
      "cell_type": "code",
      "execution_count": null,
      "id": "509da3b4",
      "metadata": {
        "id": "509da3b4",
        "outputId": "7e66b7b8-f73d-4f50-d0cf-5ecdbcd171f9"
      },
      "outputs": [
        {
          "name": "stdout",
          "output_type": "stream",
          "text": [
            "1\n",
            "2\n",
            "3\n",
            "4\n",
            "5\n",
            "6\n",
            "7\n",
            "8\n",
            "9\n",
            "10\n",
            "****************************************\n",
            "2\n",
            "2\n",
            "2\n",
            "2\n",
            "2\n",
            "2\n",
            "2\n",
            "2\n",
            "2\n",
            "2\n",
            "****************************************\n",
            "2*1= 2\n",
            "2*2= 4\n",
            "2*3= 6\n",
            "2*4= 8\n",
            "2*5= 10\n",
            "2*6= 12\n",
            "2*7= 14\n",
            "2*8= 16\n",
            "2*9= 18\n",
            "2*10= 20\n",
            "****************************************\n"
          ]
        }
      ],
      "source": [
        "#while loop\n",
        "i=1\n",
        "while i<=10:\n",
        "    print(i)\n",
        "    i=i+1\n",
        "print('*'*40)\n",
        "i=1\n",
        "while i<=10:\n",
        "    print('2')\n",
        "    i=i+1\n",
        "print('*'*40)\n",
        "i=1\n",
        "while i<=10:\n",
        "    print('2*{}= {}'.format(i,(2*i)))\n",
        "    i+=1\n",
        "\n",
        "print('*'*40)\n",
        "\n"
      ]
    },
    {
      "cell_type": "code",
      "execution_count": null,
      "id": "7973159f",
      "metadata": {
        "id": "7973159f",
        "outputId": "bf8a8be7-fa25-4aaa-a2a8-505a7efc6219"
      },
      "outputs": [
        {
          "name": "stdout",
          "output_type": "stream",
          "text": [
            "1\n",
            "2\n",
            "3\n",
            "4\n",
            "5\n",
            "Hello\n",
            "****************************************\n",
            "1\n",
            "2\n",
            "3\n",
            "4\n",
            "5\n",
            "6\n",
            "7\n",
            "8\n",
            "9\n",
            "****************************************\n",
            "2*1=2\n",
            "2*2=4\n",
            "2*3=6\n",
            "2*4=8\n",
            "2*5=10\n",
            "2*6=12\n",
            "2*7=14\n",
            "2*8=16\n",
            "2*9=18\n",
            "2*10=20\n"
          ]
        }
      ],
      "source": [
        "#For Loop\n",
        "\n",
        "for x in 1,2,3,4,5,'Hello':\n",
        "    print(x)\n",
        "    \n",
        "print('*'*40)\n",
        "\n",
        "for x in range(1,10):\n",
        "    print(x)\n",
        "    \n",
        "print('*'*40)\n",
        "\n",
        "for x in range(1,11):\n",
        "    print('2*{}={}'.format(x,(2*x)))"
      ]
    },
    {
      "cell_type": "code",
      "execution_count": null,
      "id": "0ef8cc0f",
      "metadata": {
        "id": "0ef8cc0f",
        "outputId": "2585cf35-db89-4204-a00a-289c0e51d5e2"
      },
      "outputs": [
        {
          "name": "stdout",
          "output_type": "stream",
          "text": [
            "10\n",
            "9\n",
            "8\n",
            "7\n",
            "6\n",
            "5\n",
            "4\n",
            "3\n",
            "2\n",
            "1\n",
            "****************************************\n",
            "2 *10 = 20\n",
            "2 *9 = 18\n",
            "2 *8 = 16\n",
            "2 *7 = 14\n",
            "2 *6 = 12\n",
            "2 *5 = 10\n",
            "2 *4 = 8\n",
            "2 *3 = 6\n",
            "2 *2 = 4\n",
            "2 *1 = 2\n"
          ]
        }
      ],
      "source": [
        "#reverse\n",
        "i=10\n",
        "while i>=1:\n",
        "    print(i)\n",
        "    i=i-1\n",
        "    \n",
        "print('*'*40)\n",
        "\n",
        "i=10\n",
        "while i>=1:\n",
        "    print('2 *{} = {}'.format(i,2*i))\n",
        "    i=i-1"
      ]
    }
  ],
  "metadata": {
    "kernelspec": {
      "display_name": "Python 3.9.4 64-bit",
      "language": "python",
      "name": "python3"
    },
    "language_info": {
      "codemirror_mode": {
        "name": "ipython",
        "version": 3
      },
      "file_extension": ".py",
      "mimetype": "text/x-python",
      "name": "python",
      "nbconvert_exporter": "python",
      "pygments_lexer": "ipython3",
      "version": "3.9.4"
    },
    "vscode": {
      "interpreter": {
        "hash": "877cfeaf7e69e85e669dcf8e78e76fea2b55505619de76de36ab5b5c88ff0072"
      }
    },
    "colab": {
      "name": "for_while_loop.ipynb",
      "provenance": [],
      "include_colab_link": true
    }
  },
  "nbformat": 4,
  "nbformat_minor": 5
}