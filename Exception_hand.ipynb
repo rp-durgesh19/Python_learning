{
  "nbformat": 4,
  "nbformat_minor": 0,
  "metadata": {
    "colab": {
      "name": "Exception_hand.ipynb",
      "provenance": [],
      "authorship_tag": "ABX9TyNqtu832goKwyiugbFcQxg6",
      "include_colab_link": true
    },
    "kernelspec": {
      "name": "python3",
      "display_name": "Python 3"
    },
    "language_info": {
      "name": "python"
    }
  },
  "cells": [
    {
      "cell_type": "markdown",
      "metadata": {
        "id": "view-in-github",
        "colab_type": "text"
      },
      "source": [
        "<a href=\"https://colab.research.google.com/github/dreamer561/Python/blob/main/Exception_hand.ipynb\" target=\"_parent\"><img src=\"https://colab.research.google.com/assets/colab-badge.svg\" alt=\"Open In Colab\"/></a>"
      ]
    },
    {
      "cell_type": "markdown",
      "source": [
        "EXCEPTION HANDLING"
      ],
      "metadata": {
        "id": "VayxH0m3-NCm"
      }
    },
    {
      "cell_type": "code",
      "source": [
        "n1=int(input('Please Enter First Number :'))\n",
        "n2=int(input('Please Enter Second Number :'))\n",
        "n3=n1+n2\n",
        "print('sum = : ',n3)"
      ],
      "metadata": {
        "colab": {
          "base_uri": "https://localhost:8080/"
        },
        "id": "vf34TdVP_G3-",
        "outputId": "bc71f2fd-b5cc-418a-f6e1-6bf0c886b4cd"
      },
      "execution_count": null,
      "outputs": [
        {
          "output_type": "stream",
          "name": "stdout",
          "text": [
            "Please Enter First Number :11\n",
            "Please Enter Second Number :12\n",
            "sum = :  23\n"
          ]
        }
      ]
    },
    {
      "cell_type": "code",
      "execution_count": null,
      "metadata": {
        "colab": {
          "base_uri": "https://localhost:8080/",
          "height": 235
        },
        "id": "gLK1J1of9s7M",
        "outputId": "5d3955d1-b876-4c6e-e914-dba4c8497aab"
      },
      "outputs": [
        {
          "name": "stdout",
          "output_type": "stream",
          "text": [
            "Please Enter First Number :Ten\n"
          ]
        },
        {
          "output_type": "error",
          "ename": "ValueError",
          "evalue": "ignored",
          "traceback": [
            "\u001b[0;31m---------------------------------------------------------------------------\u001b[0m",
            "\u001b[0;31mValueError\u001b[0m                                Traceback (most recent call last)",
            "\u001b[0;32m<ipython-input-3-8c968dbc9085>\u001b[0m in \u001b[0;36m<module>\u001b[0;34m()\u001b[0m\n\u001b[0;32m----> 1\u001b[0;31m \u001b[0mn1\u001b[0m\u001b[0;34m=\u001b[0m\u001b[0mint\u001b[0m\u001b[0;34m(\u001b[0m\u001b[0minput\u001b[0m\u001b[0;34m(\u001b[0m\u001b[0;34m'Please Enter First Number :'\u001b[0m\u001b[0;34m)\u001b[0m\u001b[0;34m)\u001b[0m\u001b[0;34m\u001b[0m\u001b[0;34m\u001b[0m\u001b[0m\n\u001b[0m\u001b[1;32m      2\u001b[0m \u001b[0mn2\u001b[0m\u001b[0;34m=\u001b[0m\u001b[0mint\u001b[0m\u001b[0;34m(\u001b[0m\u001b[0minput\u001b[0m\u001b[0;34m(\u001b[0m\u001b[0;34m'Please Enter Second Number :'\u001b[0m\u001b[0;34m)\u001b[0m\u001b[0;34m)\u001b[0m\u001b[0;34m\u001b[0m\u001b[0;34m\u001b[0m\u001b[0m\n\u001b[1;32m      3\u001b[0m \u001b[0mn3\u001b[0m\u001b[0;34m=\u001b[0m\u001b[0mn1\u001b[0m\u001b[0;34m+\u001b[0m\u001b[0mn2\u001b[0m\u001b[0;34m\u001b[0m\u001b[0;34m\u001b[0m\u001b[0m\n\u001b[1;32m      4\u001b[0m \u001b[0mprint\u001b[0m\u001b[0;34m(\u001b[0m\u001b[0;34m'sum = : '\u001b[0m\u001b[0;34m,\u001b[0m\u001b[0mn3\u001b[0m\u001b[0;34m)\u001b[0m\u001b[0;34m\u001b[0m\u001b[0;34m\u001b[0m\u001b[0m\n",
            "\u001b[0;31mValueError\u001b[0m: invalid literal for int() with base 10: 'Ten'"
          ]
        }
      ],
      "source": [
        "n1=int(input('Please Enter First Number :'))\n",
        "n2=int(input('Please Enter Second Number :'))\n",
        "n3=n1+n2\n",
        "print('sum = : ',n3)"
      ]
    },
    {
      "cell_type": "code",
      "source": [
        "#error handled\n",
        "\n",
        "try:\n",
        "  n1=int(input('Please Enter First Number :'))\n",
        "  n2=int(input('Please Enter Second Number :'))\n",
        "  n3=n1+n2\n",
        "  print('sum = : ',n3)\n",
        "except ValueError as ve:\n",
        "  print('input is Incorrect')"
      ],
      "metadata": {
        "colab": {
          "base_uri": "https://localhost:8080/"
        },
        "id": "xXsvxg5O_FHX",
        "outputId": "3b7668f7-78cb-4911-9e62-366e219169fc"
      },
      "execution_count": null,
      "outputs": [
        {
          "output_type": "stream",
          "name": "stdout",
          "text": [
            "Please Enter First Number :ten\n",
            "input is Incorrect\n"
          ]
        }
      ]
    },
    {
      "cell_type": "code",
      "source": [
        "try:\n",
        "  a=19\n",
        "  b=0\n",
        "  c=a/b\n",
        "  print('result :',c)\n",
        "except ZeroDivisionError as zd:\n",
        "  print('Divide By Zero error ')\n",
        "  print(zd)"
      ],
      "metadata": {
        "colab": {
          "base_uri": "https://localhost:8080/"
        },
        "id": "9cVN01AX_vW-",
        "outputId": "71a3a476-84e2-4345-8e49-e73a2c051af8"
      },
      "execution_count": null,
      "outputs": [
        {
          "output_type": "stream",
          "name": "stdout",
          "text": [
            "Divide By Zero error \n",
            "division by zero\n"
          ]
        }
      ]
    },
    {
      "cell_type": "code",
      "source": [
        "a=10\n",
        "b=0\n",
        "try:\n",
        "  c=a/b\n",
        "except ZeroDivisionError as zd:\n",
        "  print(zd)"
      ],
      "metadata": {
        "colab": {
          "base_uri": "https://localhost:8080/"
        },
        "id": "j4pOsvY6Af_e",
        "outputId": "30b626cb-45e3-49bf-9aa7-8ca784d1c4c4"
      },
      "execution_count": null,
      "outputs": [
        {
          "output_type": "stream",
          "name": "stdout",
          "text": [
            "division by zero\n"
          ]
        }
      ]
    },
    {
      "cell_type": "code",
      "source": [
        "x=10\n",
        "y=0\n",
        "z=0\n",
        "try:\n",
        "  d=x/y\n",
        "except ZeroDivisionError as zd:\n",
        "  print(zd)\n",
        "print('result ',z)"
      ],
      "metadata": {
        "colab": {
          "base_uri": "https://localhost:8080/"
        },
        "id": "Nmi18jchBDKU",
        "outputId": "482d98b1-eebc-4240-877a-768f5ebbd884"
      },
      "execution_count": null,
      "outputs": [
        {
          "output_type": "stream",
          "name": "stdout",
          "text": [
            "division by zero\n",
            "result  0\n"
          ]
        }
      ]
    },
    {
      "cell_type": "markdown",
      "source": [
        "**LACTURE 32**"
      ],
      "metadata": {
        "id": "VjAbhSXMBepK"
      }
    },
    {
      "cell_type": "code",
      "source": [
        "import sys\n",
        "try:\n",
        "  n1=int(input('Enter First Number'))\n",
        "  n2=int(input('Enter Second Number'))\n",
        "except ValueError as va:\n",
        "  print('incorrect input')\n",
        "  sys.exit()\n",
        "\n",
        "n3=n1+n2\n",
        "print(n3)"
      ],
      "metadata": {
        "colab": {
          "base_uri": "https://localhost:8080/",
          "height": 202
        },
        "id": "CglxSPe6BC7-",
        "outputId": "b175a95f-37fe-4e97-9109-35329925b848"
      },
      "execution_count": null,
      "outputs": [
        {
          "output_type": "stream",
          "name": "stdout",
          "text": [
            "Enter First Numberten\n",
            "incorrect input\n"
          ]
        },
        {
          "output_type": "error",
          "ename": "SystemExit",
          "evalue": "ignored",
          "traceback": [
            "An exception has occurred, use %tb to see the full traceback.\n",
            "\u001b[0;31mSystemExit\u001b[0m\n"
          ]
        },
        {
          "output_type": "stream",
          "name": "stderr",
          "text": [
            "/usr/local/lib/python3.7/dist-packages/IPython/core/interactiveshell.py:2890: UserWarning: To exit: use 'exit', 'quit', or Ctrl-D.\n",
            "  warn(\"To exit: use 'exit', 'quit', or Ctrl-D.\", stacklevel=1)\n"
          ]
        }
      ]
    },
    {
      "cell_type": "code",
      "source": [
        "import sys\n",
        "try:\n",
        "  n1=int(input('Enter First Number'))\n",
        "  n2=int(input('Enter Second Number'))\n",
        "  n3=n1+n2\n",
        "  print(n3)\n",
        "except ValueError as va:\n",
        "  print('incorrect input')\n",
        "  sys.exit()\n",
        "\n"
      ],
      "metadata": {
        "colab": {
          "base_uri": "https://localhost:8080/"
        },
        "id": "lgb-xB1rEbY9",
        "outputId": "1e2d9793-6288-43f8-fb7a-b1cdf99b49db"
      },
      "execution_count": null,
      "outputs": [
        {
          "output_type": "stream",
          "name": "stdout",
          "text": [
            "Enter First Number10\n",
            "Enter Second Number22\n",
            "32\n"
          ]
        }
      ]
    },
    {
      "cell_type": "code",
      "source": [
        "#division\n",
        "import sys\n",
        "try:\n",
        "  n1=int(input('Enter First Number'))\n",
        "  n2=int(input('Enter Second Number'))\n",
        "  n3=n1/n2 #ZeroDivisionError: division by zero\n",
        "  print(n3)\n",
        "except ValueError as va:\n",
        "  print('incorrect input')\n",
        "  sys.exit()\n",
        "except ZeroDivisionError as de:\n",
        "  print(de)\n",
        "  c=sys.exit()#print(quit)\n",
        "\n"
      ],
      "metadata": {
        "colab": {
          "base_uri": "https://localhost:8080/"
        },
        "id": "2FLcAq2zE5F_",
        "outputId": "533bcf69-e53b-4b79-d4d1-cabad43d2e87"
      },
      "execution_count": null,
      "outputs": [
        {
          "output_type": "stream",
          "name": "stdout",
          "text": [
            "Enter First Number12\n",
            "Enter Second Number09\n",
            "1.3333333333333333\n"
          ]
        }
      ]
    },
    {
      "cell_type": "markdown",
      "source": [
        "**LACTURE 33**"
      ],
      "metadata": {
        "id": "3TmY-hNWGmjc"
      }
    },
    {
      "cell_type": "code",
      "source": [
        "#Generic Exception Handling **Unknown Exceptions**\n",
        "import sys\n",
        "try:\n",
        "\n",
        "  n1=int(input('Enter First Number'))\n",
        "  n2=[2,3,4,5]\n",
        "  n3=n1/n2[12] #ZeroDivisionError: division by zero\n",
        "  #klm\n",
        "  print(n3)\n",
        "\n",
        "\n",
        " \n",
        "except Exception as e:\n",
        "  print('Unknown error',e )\n",
        "  sys.exit()"
      ],
      "metadata": {
        "colab": {
          "base_uri": "https://localhost:8080/",
          "height": 202
        },
        "id": "x_FJHnK4GrWf",
        "outputId": "58e97d80-0a9b-4ded-f7b3-e7728573b4e3"
      },
      "execution_count": null,
      "outputs": [
        {
          "output_type": "stream",
          "name": "stdout",
          "text": [
            "Enter First Number12\n",
            "Unknown error list index out of range\n"
          ]
        },
        {
          "output_type": "error",
          "ename": "SystemExit",
          "evalue": "ignored",
          "traceback": [
            "An exception has occurred, use %tb to see the full traceback.\n",
            "\u001b[0;31mSystemExit\u001b[0m\n"
          ]
        },
        {
          "output_type": "stream",
          "name": "stderr",
          "text": [
            "/usr/local/lib/python3.7/dist-packages/IPython/core/interactiveshell.py:2890: UserWarning: To exit: use 'exit', 'quit', or Ctrl-D.\n",
            "  warn(\"To exit: use 'exit', 'quit', or Ctrl-D.\", stacklevel=1)\n"
          ]
        }
      ]
    },
    {
      "cell_type": "code",
      "source": [
        "#finally\n",
        "\n",
        "import sys\n",
        "try:\n",
        "  n1=int(input('Enter First Number'))\n",
        "  n2=int(input('Enter Second Number'))\n",
        "  n3=n1/n2 #ZeroDivisionError: division by zero\n",
        "  print(n3)\n",
        "except ValueError as va:\n",
        "  print('incorrect input')\n",
        "  sys.exit()\n",
        "except ZeroDivisionError as de:\n",
        "  print(de)\n",
        "  sys.exit()\n",
        "except Exception as e:\n",
        "  print('Unknown error',e )\n",
        "  sys.exit()\n",
        "finally:\n",
        "  print('Excuted Finally')#in every situation"
      ],
      "metadata": {
        "colab": {
          "base_uri": "https://localhost:8080/"
        },
        "id": "vP-bdUC6Jvhl",
        "outputId": "9913dbcc-bc4b-4831-c5c1-b79f852c5bb0"
      },
      "execution_count": null,
      "outputs": [
        {
          "output_type": "stream",
          "name": "stdout",
          "text": [
            "Enter First Number12\n",
            "Enter Second Number2\n",
            "6.0\n",
            "Excuted Finally\n"
          ]
        }
      ]
    }
  ]
}