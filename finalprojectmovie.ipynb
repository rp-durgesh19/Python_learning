{
  "cells": [
    {
      "cell_type": "markdown",
      "metadata": {
        "id": "view-in-github",
        "colab_type": "text"
      },
      "source": [
        "<a href=\"https://colab.research.google.com/github/dreamer561/Python/blob/main/finalprojectmovie.ipynb\" target=\"_parent\"><img src=\"https://colab.research.google.com/assets/colab-badge.svg\" alt=\"Open In Colab\"/></a>"
      ]
    },
    {
      "cell_type": "code",
      "execution_count": null,
      "id": "0e0b416e",
      "metadata": {
        "id": "0e0b416e",
        "outputId": "51e2da91-5d3d-4251-9d2d-5bdda5005a0e"
      },
      "outputs": [
        {
          "name": "stdout",
          "output_type": "stream",
          "text": [
            "Enter movie namemovie3\n",
            "how many tickets do you want8\n",
            "not avilable\n"
          ]
        }
      ],
      "source": [
        "movie1_ticket_avilable=3\n",
        "movie2_ticket_avilable=5\n",
        "movie3_ticket_avilable=7\n",
        "\n",
        "movie_select=input('Enter movie name')\n",
        "count=input(\"how many tickets do you want\")\n",
        "if movie_select == 'movie1':\n",
        "    if movie_select=='movie1' and int(count)<=movie1_ticket_avilable:\n",
        "        print(\"your tickets are released -  {}\".format(movie_select))\n",
        "    else:\n",
        "        print(\"not avilable\")\n",
        "if movie_select == 'movie2':  \n",
        "    if movie_select=='movie2' and int(count)<=movie2_ticket_avilable:\n",
        "        print(\"your tickets are released -  {}\".format(movie_select))\n",
        "    else:\n",
        "        print(\"not avilable\")\n",
        "if movie_select == 'movie3':  \n",
        "    if movie_select=='movie3' & int(count) <= movie3_ticket_avilable:\n",
        "        print('your tickets are released -  {}'.format(movie_select))\n",
        "    else:\n",
        "        print(\"not avilable\")\n",
        "    \n",
        "\n",
        "    \n",
        "    "
      ]
    }
  ],
  "metadata": {
    "kernelspec": {
      "display_name": "Python 3 (ipykernel)",
      "language": "python",
      "name": "python3"
    },
    "language_info": {
      "codemirror_mode": {
        "name": "ipython",
        "version": 3
      },
      "file_extension": ".py",
      "mimetype": "text/x-python",
      "name": "python",
      "nbconvert_exporter": "python",
      "pygments_lexer": "ipython3",
      "version": "3.9.12"
    },
    "colab": {
      "name": "finalprojectmovie.ipynb",
      "provenance": [],
      "include_colab_link": true
    }
  },
  "nbformat": 4,
  "nbformat_minor": 5
}