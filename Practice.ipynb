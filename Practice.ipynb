{
  "cells": [
    {
      "cell_type": "markdown",
      "metadata": {
        "id": "view-in-github",
        "colab_type": "text"
      },
      "source": [
        "<a href=\"https://colab.research.google.com/github/dreamer561/Python/blob/main/Practice.ipynb\" target=\"_parent\"><img src=\"https://colab.research.google.com/assets/colab-badge.svg\" alt=\"Open In Colab\"/></a>"
      ]
    },
    {
      "cell_type": "markdown",
      "id": "054ae907",
      "metadata": {
        "id": "054ae907"
      },
      "source": [
        "# '''Input 5 subjects marks of a student and find percentage & grade on the following slabs:\n",
        "Percentage Grade\n",
        "81 - 100 A\n",
        "71 - 80B\n",
        "61 - 70 C\n",
        "40 - 60 D\n",
        "0 - 39 F'''\n",
        "\n",
        "print (\"Enter marks You got in Given Subjects\")\n",
        "English=float(int(input('Enter marks You got in English')))\n",
        "Hindi=float(int(input('nter marks You got in Hindi')))\n",
        "Maths=float(int(input('Enter marks You got in Maths')))\n",
        "Physics=float(int(input('Enter marks You got in Physics')))\n",
        "Chemestry=float(int(input('Enter marks You got in Chemestry')))\n",
        "\n",
        "Obtained_marks=English+Hindi+Maths+Physics+Chemestry\n",
        "total_marks=500\n",
        "percentage=(Obtained_marks/total_marks)/100\n",
        "print(\"{} %\".format(percentage))\n",
        "\n"
      ]
    },
    {
      "cell_type": "markdown",
      "id": "9a5faf3e",
      "metadata": {
        "id": "9a5faf3e"
      },
      "source": [
        "4\n",
        "af\n",
        "### 1\n",
        "1\n",
        "1111\n",
        "\n",
        "`\n",
        "````\n",
        "`\n",
        "# '''Input 5 subjects marks of a student and find percentage & grade on the following slabs:\n",
        "Percentage Grade\n",
        "81 - 100 A\n",
        "71 - 80B\n",
        "61 - 70 C\n",
        "40 - 60 D\n",
        "0 - 39 F'''\n",
        "\n",
        "print (\"Enter marks You got in Given Subjects\")\n",
        "English=float(int(input('Enter marks You got in English')))\n",
        "Hindi=float(int(input('nter marks You got in Hindi')))\n",
        "Maths=float(int(input('Enter marks You got in Maths')))\n",
        "Physics=float(int(input('Enter marks You got in Physics')))\n",
        "Chemestry=float(int(input('Enter marks You got in Chemestry')))\n",
        "\n",
        "total_marks=English+Hindi+Maths+Physics+Chemestry\n",
        "percentage=(total_marks/500)*100\n",
        "\n",
        "\n",
        "if (percentage==100) and (percentage>=81):\n",
        "    print(\"{} % 'A__Grade'\".format(percentage))\n",
        "if (percentage==80) and (percentage>=71):\n",
        "    print(\"{} % 'B__Grade'\".format(percentage))\n",
        "if (percentage==70) and (percentage>=61):\n",
        "    print(\"{} % 'C__Grade'\".format(percentage))\n",
        "if (percentage==60) and (percentage>=40):\n",
        "    print(\"{} % 'D__Grade'\".format(percentage))\n",
        "if percentage==39 and (percentage>0):\n",
        "    print(\"{} % 'F__Grade'\".format(percentage))\n",
        "else:\n",
        "    print('invalid input')"
      ]
    },
    {
      "cell_type": "code",
      "execution_count": null,
      "id": "21993308",
      "metadata": {
        "id": "21993308"
      },
      "outputs": [],
      "source": []
    },
    {
      "cell_type": "code",
      "execution_count": null,
      "id": "415dc0d5",
      "metadata": {
        "id": "415dc0d5"
      },
      "outputs": [],
      "source": [
        "\n",
        "    \n",
        "    `\n",
        "    1\n",
        "    "
      ]
    }
  ],
  "metadata": {
    "kernelspec": {
      "display_name": "Python 3.9.4 64-bit",
      "language": "python",
      "name": "python3"
    },
    "language_info": {
      "codemirror_mode": {
        "name": "ipython",
        "version": 3
      },
      "file_extension": ".py",
      "mimetype": "text/x-python",
      "name": "python",
      "nbconvert_exporter": "python",
      "pygments_lexer": "ipython3",
      "version": "3.9.4"
    },
    "vscode": {
      "interpreter": {
        "hash": "877cfeaf7e69e85e669dcf8e78e76fea2b55505619de76de36ab5b5c88ff0072"
      }
    },
    "colab": {
      "name": "Practice.ipynb",
      "provenance": [],
      "include_colab_link": true
    }
  },
  "nbformat": 4,
  "nbformat_minor": 5
}