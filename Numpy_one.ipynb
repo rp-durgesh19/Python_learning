{
  "cells": [
    {
      "cell_type": "markdown",
      "metadata": {
        "id": "view-in-github",
        "colab_type": "text"
      },
      "source": [
        "<a href=\"https://colab.research.google.com/github/dreamer561/Python/blob/main/Numpy_one.ipynb\" target=\"_parent\"><img src=\"https://colab.research.google.com/assets/colab-badge.svg\" alt=\"Open In Colab\"/></a>"
      ]
    },
    {
      "cell_type": "code",
      "execution_count": null,
      "metadata": {
        "colab": {
          "base_uri": "https://localhost:8080/"
        },
        "id": "Ma7FoorL4sBZ",
        "outputId": "2a29950b-4f44-427b-8f3a-feacdc2fdfc4"
      },
      "outputs": [
        {
          "output_type": "stream",
          "name": "stdout",
          "text": [
            "[6, 6, 6, 6]\n"
          ]
        }
      ],
      "source": [
        "import numpy as np\n",
        "a=[2,2,2,2]\n",
        "b=[3,3,3,3]\n",
        "c=[]\n",
        "for i in range (len(a)):\n",
        "    c.append(a[i]*b[i])\n",
        "print(c)"
      ]
    },
    {
      "cell_type": "code",
      "execution_count": null,
      "metadata": {
        "colab": {
          "base_uri": "https://localhost:8080/"
        },
        "id": "CYr3N3ma4sBi",
        "outputId": "509e8091-5759-4431-bcc8-d0f1c72ed86c"
      },
      "outputs": [
        {
          "output_type": "stream",
          "name": "stdout",
          "text": [
            "[[ 0  1  2  3  4]\n",
            " [ 5  6  7  8  9]\n",
            " [10 11 12 13 14]]\n",
            "(3, 5)\n",
            "2\n",
            "int64\n",
            "8\n",
            "15\n",
            "<class 'numpy.ndarray'>\n",
            "[6 7 8]\n",
            "<class 'numpy.ndarray'>\n"
          ]
        }
      ],
      "source": [
        "import numpy as np\n",
        "a=np.arange(15).reshape(3,5)\n",
        "print(a)\n",
        "print(a.shape)\n",
        "print(a.ndim)\n",
        "print(a.dtype.name)\n",
        "print(a.itemsize)\n",
        "print(a.size)\n",
        "print(type(a))\n",
        "b=np.array([6,7,8])\n",
        "print(b)\n",
        "print(type(b))"
      ]
    },
    {
      "cell_type": "code",
      "source": [
        "from google.colab import drive\n",
        "drive.mount('/content/drive')"
      ],
      "metadata": {
        "colab": {
          "base_uri": "https://localhost:8080/"
        },
        "id": "I1v-S_BuidmI",
        "outputId": "ebac4306-95cf-48a3-9a8a-4b6bcef3570b"
      },
      "execution_count": 113,
      "outputs": [
        {
          "output_type": "stream",
          "name": "stdout",
          "text": [
            "Mounted at /content/drive\n"
          ]
        }
      ]
    },
    {
      "cell_type": "code",
      "execution_count": null,
      "metadata": {
        "colab": {
          "base_uri": "https://localhost:8080/"
        },
        "id": "QV-foeBs4sBk",
        "outputId": "859bb42c-9a12-4bb7-b237-44ba0631fabe"
      },
      "outputs": [
        {
          "output_type": "stream",
          "name": "stdout",
          "text": [
            "int64\n",
            "[2.3 2.4 3.5]\n",
            "float64\n"
          ]
        }
      ],
      "source": [
        "import numpy as np\n",
        "a=np.array([2,3,4])\n",
        "print(a.dtype.name)\n",
        "b=np.array([2.3,2.4,3.5])\n",
        "print(b)\n",
        "print(b.dtype.name)"
      ]
    },
    {
      "cell_type": "code",
      "execution_count": null,
      "metadata": {
        "colab": {
          "base_uri": "https://localhost:8080/"
        },
        "id": "IDxBJAXv4sBm",
        "outputId": "442ecd90-654f-4a64-c203-a5738b8da36a"
      },
      "outputs": [
        {
          "output_type": "stream",
          "name": "stdout",
          "text": [
            "[[1.2 2.2 3.2]\n",
            " [2.  3.  4. ]]\n"
          ]
        }
      ],
      "source": [
        "#printing 2d array\n",
        "import numpy as num\n",
        "a=num.array([(1.2,2.2,3.2),(2,3,4)])\n",
        "print(a)"
      ]
    },
    {
      "cell_type": "code",
      "execution_count": null,
      "metadata": {
        "colab": {
          "base_uri": "https://localhost:8080/"
        },
        "id": "bb8ZZspF4sB1",
        "outputId": "948a6d00-ee71-49a0-ad0a-512d34c08682"
      },
      "outputs": [
        {
          "output_type": "stream",
          "name": "stdout",
          "text": [
            "[[[1 1 1 1]\n",
            "  [1 1 1 1]\n",
            "  [1 1 1 1]\n",
            "  [1 1 1 1]\n",
            "  [1 1 1 1]]\n",
            "\n",
            " [[1 1 1 1]\n",
            "  [1 1 1 1]\n",
            "  [1 1 1 1]\n",
            "  [1 1 1 1]\n",
            "  [1 1 1 1]]]\n"
          ]
        }
      ],
      "source": [
        "#printing 2d array\n",
        "import numpy as num\n",
        "# a=num.array([(1.2,2.2,3.2),(2,3,4)],dtype=complex)\n",
        "# print(a)\n",
        "# a=num.ones((5,4))\n",
        "# print(a.size)\n",
        "a=num.ones((2,5,4),dtype=num.int16)\n",
        "print(a)\n",
        "# b=num.empty((4,4))\n",
        "# print(b)"
      ]
    },
    {
      "cell_type": "code",
      "execution_count": null,
      "metadata": {
        "colab": {
          "base_uri": "https://localhost:8080/"
        },
        "id": "0iGWwagr4sB3",
        "outputId": "adfef226-ad90-425c-c3a5-e3864acf409a"
      },
      "outputs": [
        {
          "output_type": "execute_result",
          "data": {
            "text/plain": [
              "array([[1.2, 2.2, 3.2],\n",
              "       [2. , 3. , 4. ]])"
            ]
          },
          "metadata": {},
          "execution_count": 30
        }
      ],
      "source": [
        "num.empty((2,3))"
      ]
    },
    {
      "cell_type": "code",
      "execution_count": null,
      "metadata": {
        "colab": {
          "base_uri": "https://localhost:8080/"
        },
        "id": "apZjbR_44sB6",
        "outputId": "f787a909-5eda-459d-9182-5757588906e2"
      },
      "outputs": [
        {
          "output_type": "execute_result",
          "data": {
            "text/plain": [
              "array([  5,  15,  25,  35,  45,  55,  65,  75,  85,  95, 105, 115, 125,\n",
              "       135, 145, 155, 165, 175, 185, 195, 205, 215, 225, 235, 245, 255,\n",
              "       265, 275, 285, 295, 305, 315, 325, 335, 345, 355, 365, 375, 385,\n",
              "       395, 405, 415, 425, 435, 445, 455, 465, 475, 485, 495])"
            ]
          },
          "metadata": {},
          "execution_count": 31
        }
      ],
      "source": [
        "num.arange(5,500,10)"
      ]
    },
    {
      "cell_type": "code",
      "execution_count": null,
      "metadata": {
        "id": "DfE79QFJ4sB7"
      },
      "outputs": [],
      "source": [
        "# num.arange(5,500,1.8)"
      ]
    },
    {
      "cell_type": "code",
      "execution_count": null,
      "metadata": {
        "id": "w_xKrBVO4sB8"
      },
      "outputs": [],
      "source": [
        "from numpy import pi\n",
        "np.linspace(2,6,18)\n",
        "x=np.linspace(0,2*pi,100)\n",
        "# print(x)\n",
        "f=np.sin(x)\n",
        "# print(x)"
      ]
    },
    {
      "cell_type": "code",
      "execution_count": null,
      "metadata": {
        "colab": {
          "base_uri": "https://localhost:8080/"
        },
        "id": "pm7ljQoJ4sB-",
        "outputId": "fd594a56-09e9-46ea-aceb-04a60418a7bc"
      },
      "outputs": [
        {
          "output_type": "stream",
          "name": "stdout",
          "text": [
            "[0 0 0]\n"
          ]
        },
        {
          "output_type": "execute_result",
          "data": {
            "text/plain": [
              "array([[2.23126528e-316, 5.18768928e-322, 0.00000000e+000,\n",
              "        0.00000000e+000, 0.00000000e+000],\n",
              "       [1.16095484e-028, 4.91461113e+252, 1.64346732e+161,\n",
              "        7.20358919e+159, 9.29846533e+242],\n",
              "       [2.58400946e+161, 2.53277491e-086, 4.35287203e-114,\n",
              "        1.75300433e+243, 4.90910702e-109],\n",
              "       [6.48224637e+170, 3.67145870e+228, 3.29832587e-033,\n",
              "        6.17582057e-322, 0.00000000e+000]])"
            ]
          },
          "metadata": {},
          "execution_count": 36
        }
      ],
      "source": [
        "a=num.zeros_like((3,3,9))\n",
        "print(a)\n",
        "num.empty((4,5))"
      ]
    },
    {
      "cell_type": "markdown",
      "metadata": {
        "id": "g6M2A9OC4sB_"
      },
      "source": [
        "printing arrays\n"
      ]
    },
    {
      "cell_type": "code",
      "execution_count": null,
      "metadata": {
        "colab": {
          "base_uri": "https://localhost:8080/"
        },
        "id": "l2eoANS_4sCC",
        "outputId": "0e95efa2-7011-402f-9e63-beec7d364625"
      },
      "outputs": [
        {
          "output_type": "stream",
          "name": "stdout",
          "text": [
            "[0 1 2 3 4 5]\n",
            "[[ 0  1  2]\n",
            " [ 3  4  5]\n",
            " [ 6  7  8]\n",
            " [ 9 10 11]]\n",
            "[[[ 0  1  2  3]\n",
            "  [ 4  5  6  7]\n",
            "  [ 8  9 10 11]]\n",
            "\n",
            " [[12 13 14 15]\n",
            "  [16 17 18 19]\n",
            "  [20 21 22 23]]]\n"
          ]
        }
      ],
      "source": [
        "a=np.arange(6)\n",
        "print(a)\n",
        "b=np.arange(12).reshape(4,3)\n",
        "print(b)\n",
        "c=np.arange(24).reshape(2,3,4)\n",
        "print(c)"
      ]
    },
    {
      "cell_type": "code",
      "execution_count": null,
      "metadata": {
        "id": "4scjhTFb4sCD"
      },
      "outputs": [],
      "source": [
        "import sys\n",
        "np.set_printoptions(threshold=sys.maxsize)\n",
        "np.arange(10000)\n",
        "a=np.arange(10000).reshape(100,100)\n",
        "# print(a)"
      ]
    },
    {
      "cell_type": "markdown",
      "metadata": {
        "id": "rPM9iVAd4sCF"
      },
      "source": [
        "Basic operatios"
      ]
    },
    {
      "cell_type": "code",
      "execution_count": null,
      "metadata": {
        "colab": {
          "base_uri": "https://localhost:8080/"
        },
        "id": "yb4jGegu4sCG",
        "outputId": "d38fe947-6e63-48e1-f659-c60f5a709256"
      },
      "outputs": [
        {
          "output_type": "stream",
          "name": "stdout",
          "text": [
            "[20 31 42 53]\n"
          ]
        },
        {
          "output_type": "execute_result",
          "data": {
            "text/plain": [
              "array([ True,  True,  True, False])"
            ]
          },
          "metadata": {},
          "execution_count": 38
        }
      ],
      "source": [
        "#arthematic\n",
        "a=np.array([20,30,40,50])\n",
        "b=np.arange(4)\n",
        "c=a+b\n",
        "print(c)\n",
        "b**2\n",
        "10*np.sin(a)\n",
        "a<45\n"
      ]
    },
    {
      "cell_type": "code",
      "execution_count": null,
      "metadata": {
        "colab": {
          "base_uri": "https://localhost:8080/"
        },
        "id": "XrrqeT1D4sCG",
        "outputId": "43e7b837-aaca-4339-e9b8-e6f2802ccc07"
      },
      "outputs": [
        {
          "output_type": "execute_result",
          "data": {
            "text/plain": [
              "array([[2, 0],\n",
              "       [0, 4]])"
            ]
          },
          "metadata": {},
          "execution_count": 39
        }
      ],
      "source": [
        "a=np.array([[1,1],\n",
        "        [0,1]])\n",
        "b=np.array([[2,0],\n",
        "        [3,4]])\n",
        "a*b"
      ]
    },
    {
      "cell_type": "markdown",
      "source": [
        "Indexing and selection\n"
      ],
      "metadata": {
        "id": "XPrgLMQC5Wfe"
      }
    },
    {
      "cell_type": "code",
      "source": [
        "import numpy as np\n",
        "arrays=np.arange(15)\n",
        "print(arrays)\n",
        "arrays[4]\n",
        "#broadcasting\n",
        "arrays[0:5]=100\n",
        "print(arrays)"
      ],
      "metadata": {
        "colab": {
          "base_uri": "https://localhost:8080/"
        },
        "id": "E3CJRQBd5cT9",
        "outputId": "9e257fcc-227e-48c8-9bab-f33a1447d48d"
      },
      "execution_count": null,
      "outputs": [
        {
          "output_type": "stream",
          "name": "stdout",
          "text": [
            "[ 0  1  2  3  4  5  6  7  8  9 10 11 12 13 14]\n",
            "[100 100 100 100 100   5   6   7   8   9  10  11  12  13  14]\n"
          ]
        }
      ]
    },
    {
      "cell_type": "code",
      "source": [
        "#Resetting again the array\n",
        "arr=np.arange(12)#.reshape(4,3)\n",
        "print(arr)\n",
        "#slice of array\n",
        "slice_af_arr=arr[0:6]\n",
        "print(slice_af_arr)\n",
        "slice_af_arr[1:5]=99\n",
        "print(slice_af_arr)\n",
        "\n",
        "#access all elements\n",
        "# arr[:]=1\n",
        "print(arr)\n"
      ],
      "metadata": {
        "colab": {
          "base_uri": "https://localhost:8080/"
        },
        "id": "hJE9Y2Qn6KkY",
        "outputId": "c4c4a976-13e4-4e29-df08-27cb7502e936"
      },
      "execution_count": null,
      "outputs": [
        {
          "output_type": "stream",
          "name": "stdout",
          "text": [
            "[ 0  1  2  3  4  5  6  7  8  9 10 11]\n",
            "[0 1 2 3 4 5]\n",
            "[ 0 99 99 99 99  5]\n",
            "[ 0 99 99 99 99  5  6  7  8  9 10 11]\n"
          ]
        }
      ]
    },
    {
      "cell_type": "markdown",
      "source": [
        "#2Slicing solution"
      ],
      "metadata": {
        "id": "aihAQfd88yXC"
      }
    },
    {
      "cell_type": "code",
      "source": [
        "#copy existing array with help of .copy()\n",
        "arr=np.arange(12)\n",
        "arr_copy=arr.copy()\n",
        "arr_copy[0:6]=99\n",
        "print(arr_copy)\n",
        "print(arr)"
      ],
      "metadata": {
        "colab": {
          "base_uri": "https://localhost:8080/"
        },
        "id": "iudyxZrX9AOA",
        "outputId": "ff049b55-95dd-4157-8d94-2997939ce1b3"
      },
      "execution_count": null,
      "outputs": [
        {
          "output_type": "stream",
          "name": "stdout",
          "text": [
            "[99 99 99 99 99 99  6  7  8  9 10 11]\n",
            "[ 0  1  2  3  4  5  6  7  8  9 10 11]\n"
          ]
        }
      ]
    },
    {
      "cell_type": "markdown",
      "source": [
        "INDEXING 2D ARRAY"
      ],
      "metadata": {
        "id": "ZL4_9CCi-YZW"
      }
    },
    {
      "cell_type": "code",
      "source": [
        "arr2d=np.array(([5,10,15],[20,25,30],[35,40,45]))\n",
        "arr2d"
      ],
      "metadata": {
        "colab": {
          "base_uri": "https://localhost:8080/"
        },
        "id": "L23WkqJ3-eHR",
        "outputId": "52039fa9-42c9-4b55-a9e2-b280f243c11a"
      },
      "execution_count": null,
      "outputs": [
        {
          "output_type": "execute_result",
          "data": {
            "text/plain": [
              "array([[ 5, 10, 15],\n",
              "       [20, 25, 30],\n",
              "       [35, 40, 45]])"
            ]
          },
          "metadata": {},
          "execution_count": 44
        }
      ]
    },
    {
      "cell_type": "code",
      "source": [
        "#accessing 1st row\n",
        "print(arr2d[0])\n",
        "#accessing single element\n",
        "print(arr2d[1][1])\n",
        "\n",
        "#or\n",
        "print(arr2d[1,1])"
      ],
      "metadata": {
        "colab": {
          "base_uri": "https://localhost:8080/"
        },
        "id": "UQzjBsgb-xT7",
        "outputId": "e3d5ea88-6e2f-420d-e870-b8d4ea3e1ffb"
      },
      "execution_count": null,
      "outputs": [
        {
          "output_type": "stream",
          "name": "stdout",
          "text": [
            "[ 5 10 15]\n",
            "25\n",
            "25\n"
          ]
        }
      ]
    },
    {
      "cell_type": "markdown",
      "source": [
        "#Slicing 2d ARRAY"
      ],
      "metadata": {
        "id": "A8KGT8iDAkYh"
      }
    },
    {
      "cell_type": "code",
      "source": [
        "#to extract 2d array from giving array\n",
        "print(arr2d)\n",
        "print(arr2d[:2,1:])\n",
        "\n",
        "#x:-[include x and after x]\n",
        "#:x[exclude x and before x]\n",
        "print(arr2d[2:,:2])"
      ],
      "metadata": {
        "colab": {
          "base_uri": "https://localhost:8080/"
        },
        "id": "SLYckZDpAp52",
        "outputId": "297b3b47-e645-4b1d-b6f0-784739016b9b"
      },
      "execution_count": 61,
      "outputs": [
        {
          "output_type": "stream",
          "name": "stdout",
          "text": [
            "[[ 5 10 15]\n",
            " [20 25 30]\n",
            " [35 40 45]]\n",
            "[[10 15]\n",
            " [25 30]]\n",
            "[[35 40]]\n"
          ]
        }
      ]
    },
    {
      "cell_type": "code",
      "source": [
        "#[5,10]\n",
        "#[20,25]\n",
        "print(arr2d[:2,:2])\n",
        "length=arr2d.shape[1]"
      ],
      "metadata": {
        "colab": {
          "base_uri": "https://localhost:8080/"
        },
        "id": "1GhTjJO7SAdW",
        "outputId": "ad008cef-1be6-4214-a5ab-d28eec228c65"
      },
      "execution_count": 81,
      "outputs": [
        {
          "output_type": "stream",
          "name": "stdout",
          "text": [
            "[[0. 0.]\n",
            " [0. 0.]]\n"
          ]
        }
      ]
    },
    {
      "cell_type": "code",
      "source": [
        "#4Fancy Indexing\n",
        "import numpy as np\n",
        "# Fancy_array=np.arange(15).reshape(3,5)\n",
        "# Fancy_array\n",
        "arr2d=np.zeros((10,10))\n",
        "length=arr2d.shape[1]\n",
        "for i in range(length):\n",
        "  arr2d[i]=i\n",
        "print(arr2d)\n"
      ],
      "metadata": {
        "colab": {
          "base_uri": "https://localhost:8080/"
        },
        "id": "jl78Qj1JT1hs",
        "outputId": "025212c6-d33d-4275-875e-c884fb46d4a1"
      },
      "execution_count": 90,
      "outputs": [
        {
          "output_type": "stream",
          "name": "stdout",
          "text": [
            "[[0. 0. 0. 0. 0. 0. 0. 0. 0. 0.]\n",
            " [1. 1. 1. 1. 1. 1. 1. 1. 1. 1.]\n",
            " [2. 2. 2. 2. 2. 2. 2. 2. 2. 2.]\n",
            " [3. 3. 3. 3. 3. 3. 3. 3. 3. 3.]\n",
            " [4. 4. 4. 4. 4. 4. 4. 4. 4. 4.]\n",
            " [5. 5. 5. 5. 5. 5. 5. 5. 5. 5.]\n",
            " [6. 6. 6. 6. 6. 6. 6. 6. 6. 6.]\n",
            " [7. 7. 7. 7. 7. 7. 7. 7. 7. 7.]\n",
            " [8. 8. 8. 8. 8. 8. 8. 8. 8. 8.]\n",
            " [9. 9. 9. 9. 9. 9. 9. 9. 9. 9.]]\n"
          ]
        }
      ]
    },
    {
      "cell_type": "code",
      "source": [
        "arr2d[[2,4,6,8]]"
      ],
      "metadata": {
        "colab": {
          "base_uri": "https://localhost:8080/"
        },
        "id": "tq8I5Xl4YqqU",
        "outputId": "ff1289da-856e-471d-b3c3-30a62521c9e1"
      },
      "execution_count": 91,
      "outputs": [
        {
          "output_type": "execute_result",
          "data": {
            "text/plain": [
              "array([[2., 2., 2., 2., 2., 2., 2., 2., 2., 2.],\n",
              "       [4., 4., 4., 4., 4., 4., 4., 4., 4., 4.],\n",
              "       [6., 6., 6., 6., 6., 6., 6., 6., 6., 6.],\n",
              "       [8., 8., 8., 8., 8., 8., 8., 8., 8., 8.]])"
            ]
          },
          "metadata": {},
          "execution_count": 91
        }
      ]
    },
    {
      "cell_type": "code",
      "source": [
        "arr2d[[7]]"
      ],
      "metadata": {
        "colab": {
          "base_uri": "https://localhost:8080/"
        },
        "id": "XHt-9Y7CZDWc",
        "outputId": "59437334-dbca-462c-d93a-72889c8819be"
      },
      "execution_count": 92,
      "outputs": [
        {
          "output_type": "execute_result",
          "data": {
            "text/plain": [
              "array([[7., 7., 7., 7., 7., 7., 7., 7., 7., 7.]])"
            ]
          },
          "metadata": {},
          "execution_count": 92
        }
      ]
    },
    {
      "cell_type": "markdown",
      "source": [
        "#Selection"
      ],
      "metadata": {
        "id": "RHwHNHcBZP8G"
      }
    },
    {
      "cell_type": "code",
      "source": [
        "arr=np.arange(1,17)\n",
        "arr>4"
      ],
      "metadata": {
        "colab": {
          "base_uri": "https://localhost:8080/"
        },
        "id": "5cwwufcMZTQy",
        "outputId": "7c16709b-4c56-495b-8344-9830c70fd2a0"
      },
      "execution_count": 94,
      "outputs": [
        {
          "output_type": "execute_result",
          "data": {
            "text/plain": [
              "array([False, False, False, False,  True,  True,  True,  True,  True,\n",
              "        True,  True,  True,  True,  True,  True,  True])"
            ]
          },
          "metadata": {},
          "execution_count": 94
        }
      ]
    },
    {
      "cell_type": "code",
      "source": [
        "arr[arr > 3]"
      ],
      "metadata": {
        "colab": {
          "base_uri": "https://localhost:8080/"
        },
        "id": "kxfntkv7cuE-",
        "outputId": "90c4486a-5673-40e2-def5-540a50687d52"
      },
      "execution_count": 97,
      "outputs": [
        {
          "output_type": "execute_result",
          "data": {
            "text/plain": [
              "array([ 4,  5,  6,  7,  8,  9, 10, 11, 12, 13, 14, 15, 16])"
            ]
          },
          "metadata": {},
          "execution_count": 97
        }
      ]
    },
    {
      "cell_type": "code",
      "source": [
        "#6--Numpy_Operations\n",
        "arr=np.arange(0,10)\n",
        "arr\n",
        "#addition\n",
        "arr+arr\n",
        "#sub\n",
        "arr-arr\n",
        "#mul\n",
        "arr*arr\n",
        "#div\n",
        "arr/arr\n",
        "#exponent\n",
        "arr**3"
      ],
      "metadata": {
        "colab": {
          "base_uri": "https://localhost:8080/"
        },
        "id": "RGPsqrrjetMY",
        "outputId": "d7b523a3-11d8-44ad-eea0-4a414a06bee5"
      },
      "execution_count": 106,
      "outputs": [
        {
          "output_type": "stream",
          "name": "stderr",
          "text": [
            "/usr/local/lib/python3.7/dist-packages/ipykernel_launcher.py:11: RuntimeWarning: invalid value encountered in true_divide\n",
            "  # This is added back by InteractiveShellApp.init_path()\n"
          ]
        },
        {
          "output_type": "execute_result",
          "data": {
            "text/plain": [
              "array([  0,   1,   8,  27,  64, 125, 216, 343, 512, 729])"
            ]
          },
          "metadata": {},
          "execution_count": 106
        }
      ]
    },
    {
      "cell_type": "code",
      "source": [
        "#Universal functions\n",
        "#root\n",
        "np.sqrt(arr)\n",
        "#exponential\n",
        "np.exp(arr)\n",
        "np.exp2(arr)\n",
        "#finding max af array\n",
        "np.max(arr)\n",
        "#finding min\n",
        "np.min(arr)"
      ],
      "metadata": {
        "colab": {
          "base_uri": "https://localhost:8080/"
        },
        "id": "IcFt2aZyhDY1",
        "outputId": "b4f202b0-0dfd-402b-f951-9924ac3829ad"
      },
      "execution_count": 111,
      "outputs": [
        {
          "output_type": "execute_result",
          "data": {
            "text/plain": [
              "0"
            ]
          },
          "metadata": {},
          "execution_count": 111
        }
      ]
    },
    {
      "cell_type": "code",
      "source": [
        "#trigonamatry function\n",
        "np.sin(arr)\n",
        "#log\n",
        "np.log(arr)"
      ],
      "metadata": {
        "colab": {
          "base_uri": "https://localhost:8080/"
        },
        "id": "O4ntvng1hs_6",
        "outputId": "5f2a4226-035f-468c-a2ed-fc10bb938c4a"
      },
      "execution_count": 112,
      "outputs": [
        {
          "output_type": "execute_result",
          "data": {
            "text/plain": [
              "array([ 0.        ,  0.84147098,  0.90929743,  0.14112001, -0.7568025 ,\n",
              "       -0.95892427, -0.2794155 ,  0.6569866 ,  0.98935825,  0.41211849])"
            ]
          },
          "metadata": {},
          "execution_count": 112
        }
      ]
    }
  ],
  "metadata": {
    "kernelspec": {
      "display_name": "Python 3.9.4 64-bit",
      "language": "python",
      "name": "python3"
    },
    "language_info": {
      "codemirror_mode": {
        "name": "ipython",
        "version": 3
      },
      "file_extension": ".py",
      "mimetype": "text/x-python",
      "name": "python",
      "nbconvert_exporter": "python",
      "pygments_lexer": "ipython3",
      "version": "3.9.4"
    },
    "orig_nbformat": 4,
    "vscode": {
      "interpreter": {
        "hash": "877cfeaf7e69e85e669dcf8e78e76fea2b55505619de76de36ab5b5c88ff0072"
      }
    },
    "colab": {
      "name": "Numpy_one.ipynb",
      "provenance": [],
      "collapsed_sections": [],
      "toc_visible": true,
      "include_colab_link": true
    }
  },
  "nbformat": 4,
  "nbformat_minor": 0
}