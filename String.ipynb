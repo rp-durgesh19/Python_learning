{
  "nbformat": 4,
  "nbformat_minor": 0,
  "metadata": {
    "colab": {
      "name": "String.ipynb",
      "provenance": [],
      "authorship_tag": "ABX9TyMxlTkD2KxhFG/fHFh/7sNf",
      "include_colab_link": true
    },
    "kernelspec": {
      "name": "python3",
      "display_name": "Python 3"
    },
    "language_info": {
      "name": "python"
    }
  },
  "cells": [
    {
      "cell_type": "markdown",
      "metadata": {
        "id": "view-in-github",
        "colab_type": "text"
      },
      "source": [
        "<a href=\"https://colab.research.google.com/github/dreamer561/Python/blob/main/String.ipynb\" target=\"_parent\"><img src=\"https://colab.research.google.com/assets/colab-badge.svg\" alt=\"Open In Colab\"/></a>"
      ]
    },
    {
      "cell_type": "markdown",
      "source": [
        "**Lacture 28**"
      ],
      "metadata": {
        "id": "cWwHDwilje38"
      }
    },
    {
      "cell_type": "code",
      "execution_count": null,
      "metadata": {
        "id": "z0hFXCQVt6ws",
        "colab": {
          "base_uri": "https://localhost:8080/"
        },
        "outputId": "2d829d39-867b-4f54-d5f5-4bc79db4dc36"
      },
      "outputs": [
        {
          "output_type": "stream",
          "name": "stdout",
          "text": [
            "Python Programming\n",
            "Hello World\n",
            "hey Welcome\n",
            "this is python\n"
          ]
        }
      ],
      "source": [
        "#String Handling\n",
        "#string :sequence of characters\n",
        "string_01='Python Programming'\n",
        "string_02=\"Hello World\"\n",
        "string_03='''hey Welcome'''\n",
        "string_04=\"\"\"this is python\"\"\"\n",
        "\n",
        "print(string_01)\n",
        "print(string_02)\n",
        "print(string_03)\n",
        "print(string_04)"
      ]
    },
    {
      "cell_type": "code",
      "source": [
        "string_05='''welcome\n",
        "to\n",
        "python'''\n",
        "print(string_05)"
      ],
      "metadata": {
        "colab": {
          "base_uri": "https://localhost:8080/"
        },
        "id": "UshFj_OHy0Vu",
        "outputId": "4d2cab11-575b-4d74-927a-9ea0a9fe8314"
      },
      "execution_count": null,
      "outputs": [
        {
          "output_type": "stream",
          "name": "stdout",
          "text": [
            "welcome\n",
            "to\n",
            "python\n"
          ]
        }
      ]
    },
    {
      "cell_type": "code",
      "source": [
        "string_06=\"\"\"welcome\n",
        "to \n",
        "python\n",
        "09\"\"\"\n",
        "print(string_06)"
      ],
      "metadata": {
        "colab": {
          "base_uri": "https://localhost:8080/"
        },
        "id": "z64Ol3qyzEvA",
        "outputId": "58cad7eb-236c-47da-e13b-3e541c6eabbc"
      },
      "execution_count": null,
      "outputs": [
        {
          "output_type": "stream",
          "name": "stdout",
          "text": [
            "welcome\n",
            "to \n",
            "python\n",
            "09\n"
          ]
        }
      ]
    },
    {
      "cell_type": "code",
      "source": [
        "#others visibility and readability\n",
        "string_07='python '\\\n",
        "          'is '\\\n",
        "          'a '\\\n",
        "          'programming '\\\n",
        "          'language '\n",
        "print(string_07)"
      ],
      "metadata": {
        "colab": {
          "base_uri": "https://localhost:8080/"
        },
        "id": "EBE5nr9VzW9h",
        "outputId": "4d32db21-76eb-4fa7-ea0f-f878d1a3780f"
      },
      "execution_count": null,
      "outputs": [
        {
          "output_type": "stream",
          "name": "stdout",
          "text": [
            "python is a programming language \n"
          ]
        }
      ]
    },
    {
      "cell_type": "code",
      "source": [
        "#others visibility and readability\n",
        "string_08=('python \\n'\n",
        "          'is '\n",
        "          'a '\n",
        "          'programming '\n",
        "          'language ')\n",
        "print(string_08)"
      ],
      "metadata": {
        "colab": {
          "base_uri": "https://localhost:8080/"
        },
        "id": "Kauk26IWz_m7",
        "outputId": "d0e9b126-e678-41b9-f393-600834ca75aa"
      },
      "execution_count": null,
      "outputs": [
        {
          "output_type": "stream",
          "name": "stdout",
          "text": [
            "python \n",
            "is a programming language \n"
          ]
        }
      ]
    },
    {
      "cell_type": "code",
      "source": [
        "#access specific/idividual characters\n",
        "string_09='python programing is fun!!'\n",
        "print('First character :',string_09[0])\n",
        "print('Last character :',string_09[-1])\n",
        "\n",
        "#slicing\n",
        "print('0 to 5 slicing :',string_09[0:5])"
      ],
      "metadata": {
        "colab": {
          "base_uri": "https://localhost:8080/"
        },
        "id": "AMRreYrK0UwA",
        "outputId": "cee2e16a-97ce-4566-e1de-78158203eb4e"
      },
      "execution_count": null,
      "outputs": [
        {
          "output_type": "stream",
          "name": "stdout",
          "text": [
            "First character : p\n",
            "Last character : !\n",
            "0 to 5 slicing : pytho\n"
          ]
        }
      ]
    },
    {
      "cell_type": "code",
      "source": [
        "#string Operations\n",
        "string_10='python'\n",
        "string_11='programing'\n",
        "string_12='is'\n",
        "string_13='fun'\n",
        "\n",
        "#using +\n",
        "print(string_10+string_11+string_12)#adding spaces\n",
        "\n"
      ],
      "metadata": {
        "colab": {
          "base_uri": "https://localhost:8080/"
        },
        "id": "B7THp5ew1KCC",
        "outputId": "f964d5a1-fcab-45cb-8bca-ee6bee4cfd5d"
      },
      "execution_count": null,
      "outputs": [
        {
          "output_type": "stream",
          "name": "stdout",
          "text": [
            "pythonprogramingis\n"
          ]
        }
      ]
    },
    {
      "cell_type": "markdown",
      "source": [
        "**Lacture 29**"
      ],
      "metadata": {
        "id": "PzVeOKdrjl_V"
      }
    },
    {
      "cell_type": "code",
      "source": [
        "#using * operator\n",
        "string_14='python'\n",
        "print(string_14*  5)"
      ],
      "metadata": {
        "colab": {
          "base_uri": "https://localhost:8080/"
        },
        "id": "9Y7t3A9zjBXG",
        "outputId": "8e76ef84-8832-4e4a-ea2d-579a16f5c927"
      },
      "execution_count": 3,
      "outputs": [
        {
          "output_type": "stream",
          "name": "stdout",
          "text": [
            "pythonpythonpythonpythonpython\n"
          ]
        }
      ]
    },
    {
      "cell_type": "code",
      "source": [
        "#String itteration\n",
        "\n",
        "string_15='Python programing! '\n",
        "for ch in string_15:\n",
        "  print (ch)"
      ],
      "metadata": {
        "colab": {
          "base_uri": "https://localhost:8080/"
        },
        "id": "CH-LZ_3WkrcS",
        "outputId": "1936da32-7142-4594-87f4-34bf4d2212d9"
      },
      "execution_count": 1,
      "outputs": [
        {
          "output_type": "stream",
          "name": "stdout",
          "text": [
            "P\n",
            "y\n",
            "t\n",
            "h\n",
            "o\n",
            "n\n",
            " \n",
            "p\n",
            "r\n",
            "o\n",
            "g\n",
            "r\n",
            "a\n",
            "m\n",
            "i\n",
            "n\n",
            "g\n",
            "!\n",
            " \n"
          ]
        }
      ]
    },
    {
      "cell_type": "code",
      "source": [
        "#string methods[lower,upper,title,isalpha]\n",
        "#startwith,endwith,Ljust,Rjust,center\n",
        "string_16=\"PYTHON\"\n",
        "print(string_16.lower())\n",
        "#print(lower(string_16))\n",
        "print(string_16.upper())\n",
        "print(string_16.title())\n",
        "print(string_16.isalpha())\n",
        "print(string_16.isidentifier())\n",
        "print(string_16.isdigit())\n",
        "print(string_16.startswith('p'))\n",
        "print(string_16.endswith('N'))\n",
        "\n",
        "#ljust\n",
        "print('Flight TO San Jose ' + ' : '+ \"$599.9\")\n",
        "\n",
        "print('Flight TO San Jose ' .ljust(30)+ \"$599.9\")\n",
        "\n",
        "print('Flight TO San Jose '+ \"$599.9\".rjust(20))\n",
        "print('Flight TO San Jose ' + ' : '+ \"$599.9\".center(20,'_'))"
      ],
      "metadata": {
        "colab": {
          "base_uri": "https://localhost:8080/"
        },
        "id": "NnU_rJvvrE3M",
        "outputId": "0ea5e748-d4bf-4c4f-d893-9a0542309f9a"
      },
      "execution_count": 21,
      "outputs": [
        {
          "output_type": "stream",
          "name": "stdout",
          "text": [
            "python\n",
            "PYTHON\n",
            "Python\n",
            "True\n",
            "True\n",
            "False\n",
            "False\n",
            "True\n",
            "Flight TO San Jose  : $599.9\n",
            "Flight TO San Jose            $599.9\n",
            "Flight TO San Jose               $599.9\n",
            "Flight TO San Jose  : _______$599.9_______\n"
          ]
        }
      ]
    },
    {
      "cell_type": "markdown",
      "source": [
        "**Lacture 30**"
      ],
      "metadata": {
        "id": "bZufo_5cum84"
      }
    },
    {
      "cell_type": "code",
      "source": [
        "#string- fInd and Replace\n",
        "message='''Microsoft is our it company.\n",
        "          we offer web and mobile based developmentes'''\n",
        "search_domain_name=message.find('Microsoft')\n",
        "\n",
        "search_low_price=message.find('low price')\n",
        "\n",
        "if search_domain_name==-1 or search_low_price == -1:\n",
        "  print('your message is not approved')\n",
        "else:\n",
        "  print('Go and proceed your application')\n"
      ],
      "metadata": {
        "colab": {
          "base_uri": "https://localhost:8080/"
        },
        "id": "pi_xCIWGutB_",
        "outputId": "6cf64770-41f0-4db5-adab-dee32c15f702"
      },
      "execution_count": 28,
      "outputs": [
        {
          "output_type": "stream",
          "name": "stdout",
          "text": [
            "your message is not approved\n"
          ]
        }
      ]
    },
    {
      "cell_type": "code",
      "source": [
        "#replace\n",
        "ip_address_invalid=\"10,10,10,23\"\n",
        "ip_address_valid =ip_address_invalid.replace(\",\",\".\")\n",
        "print(ip_address_valid,\"is valid ip address\")"
      ],
      "metadata": {
        "colab": {
          "base_uri": "https://localhost:8080/"
        },
        "id": "fVUQHPp0xClW",
        "outputId": "9aedfad5-7821-4693-bfa8-431bac2faeca"
      },
      "execution_count": 30,
      "outputs": [
        {
          "output_type": "stream",
          "name": "stdout",
          "text": [
            "10.10.10.23 is valid ip address\n"
          ]
        }
      ]
    },
    {
      "cell_type": "code",
      "source": [
        "#String split method\n",
        "message_1=\"The quick brown fox jumps over the lazy dog.\"\n",
        "words_list=message_1.split()\n",
        "print(words_list)"
      ],
      "metadata": {
        "colab": {
          "base_uri": "https://localhost:8080/"
        },
        "id": "DklQRl5PxnHm",
        "outputId": "b677c1d7-e5fb-498a-89ae-6e2946bd18f1"
      },
      "execution_count": 31,
      "outputs": [
        {
          "output_type": "stream",
          "name": "stdout",
          "text": [
            "['The', 'quick', 'brown', 'fox', 'jumps', 'over', 'the', 'lazy', 'dog.']\n"
          ]
        }
      ]
    },
    {
      "cell_type": "code",
      "source": [
        "#join method\n",
        "message_2=\" \".join(words_list)\n",
        "print(message_2)\n",
        "print(type(message_2))\n"
      ],
      "metadata": {
        "colab": {
          "base_uri": "https://localhost:8080/"
        },
        "id": "wN8s5S8MyUXZ",
        "outputId": "4be6a5e1-e5b0-4d45-cbde-a6968ad4ca1c"
      },
      "execution_count": 35,
      "outputs": [
        {
          "output_type": "stream",
          "name": "stdout",
          "text": [
            "The quick brown fox jumps over the lazy dog.\n",
            "<class 'str'>\n"
          ]
        }
      ]
    }
  ]
}