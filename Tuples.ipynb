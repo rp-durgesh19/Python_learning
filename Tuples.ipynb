{
  "nbformat": 4,
  "nbformat_minor": 0,
  "metadata": {
    "colab": {
      "name": "Tuples.ipynb",
      "provenance": [],
      "collapsed_sections": [],
      "authorship_tag": "ABX9TyNoCSd8jxD4dKInNcm6hEQS",
      "include_colab_link": true
    },
    "kernelspec": {
      "name": "python3",
      "display_name": "Python 3"
    },
    "language_info": {
      "name": "python"
    }
  },
  "cells": [
    {
      "cell_type": "markdown",
      "metadata": {
        "id": "view-in-github",
        "colab_type": "text"
      },
      "source": [
        "<a href=\"https://colab.research.google.com/github/dreamer561/Python/blob/main/Tuples.ipynb\" target=\"_parent\"><img src=\"https://colab.research.google.com/assets/colab-badge.svg\" alt=\"Open In Colab\"/></a>"
      ]
    },
    {
      "cell_type": "code",
      "source": [
        "#iterate_list\n",
        "names=['a','b','c']\n",
        "for name in names:\n",
        "  print(name)"
      ],
      "metadata": {
        "colab": {
          "base_uri": "https://localhost:8080/"
        },
        "id": "Yh4e0rKyq4Ra",
        "outputId": "1cf470f3-b42a-464b-a826-c0b461affcd8"
      },
      "execution_count": null,
      "outputs": [
        {
          "output_type": "stream",
          "name": "stdout",
          "text": [
            "a\n",
            "b\n",
            "c\n"
          ]
        }
      ]
    },
    {
      "cell_type": "code",
      "execution_count": null,
      "metadata": {
        "colab": {
          "base_uri": "https://localhost:8080/"
        },
        "id": "igufzN55Ivya",
        "outputId": "8c9f7c51-2edf-41c6-b6a2-50aeda7dc02e"
      },
      "outputs": [
        {
          "output_type": "stream",
          "name": "stdout",
          "text": [
            "(1, 2, 3, 4, 5)\n",
            "('a', 'b', 'c')\n",
            "<class 'tuple'>\n"
          ]
        }
      ],
      "source": [
        "#creating tuples\n",
        "tuple1=(1,2,3,4,5)\n",
        "tuple2=(\"a\",'b','c')\n",
        "tuple3='a','b','c'\n",
        "\n",
        "print(tuple1)\n",
        "print(tuple2)\n",
        "print(type(tuple1))"
      ]
    },
    {
      "cell_type": "code",
      "source": [
        "#Accessing a tuple\n",
        "tuple6=(1,2,3,4,5,6,67,9)\n",
        "print('by index'.center(30,'_'))\n",
        "print(tuple6[5])\n",
        "\n",
        "print('by index range (slicing)'.center(30,'_'))\n",
        "print(tuple6[3:])\n",
        "print(tuple6[3:6])#upperbound not included"
      ],
      "metadata": {
        "colab": {
          "base_uri": "https://localhost:8080/"
        },
        "id": "iux1GcImJhaF",
        "outputId": "0c5f2e17-a08a-4dd5-db33-153a6abe48ae"
      },
      "execution_count": null,
      "outputs": [
        {
          "output_type": "stream",
          "name": "stdout",
          "text": [
            "___________by index___________\n",
            "6\n",
            "___by index range (slicing)___\n",
            "(4, 5, 6, 67, 9)\n",
            "(4, 5, 6)\n"
          ]
        }
      ]
    },
    {
      "cell_type": "code",
      "source": [
        "#EMMPTY TUPLE\n",
        "tup=()\n",
        "print(tup)"
      ],
      "metadata": {
        "colab": {
          "base_uri": "https://localhost:8080/"
        },
        "id": "zL69rszkqt_8",
        "outputId": "6470f5ec-765a-4391-ebb6-393227c3e030"
      },
      "execution_count": null,
      "outputs": [
        {
          "output_type": "stream",
          "name": "stdout",
          "text": [
            "()\n"
          ]
        }
      ]
    },
    {
      "cell_type": "code",
      "source": [
        "print(tuple6)\n",
        "print('by  negative indexing'.center(30,'_'))\n",
        "print(tuple6[-3])\n",
        "\n",
        "#accessing all elements\n",
        "print(tuple6[:])"
      ],
      "metadata": {
        "colab": {
          "base_uri": "https://localhost:8080/"
        },
        "id": "9rtbY2dnq2Ct",
        "outputId": "67b4c5db-3078-404f-9b09-7de0ffcdc1bf"
      },
      "execution_count": null,
      "outputs": [
        {
          "output_type": "stream",
          "name": "stdout",
          "text": [
            "(1, 2, 3, 4, 5, 6, 67, 9)\n",
            "____by  negative indexing_____\n",
            "6\n",
            "(1, 2, 3, 4, 5, 6, 67, 9)\n"
          ]
        }
      ]
    },
    {
      "cell_type": "markdown",
      "source": [
        "<h4><b>Lacture 18</b></h4>"
      ],
      "metadata": {
        "id": "aNJ70u7RtI_4"
      }
    },
    {
      "cell_type": "code",
      "source": [
        "#tuple operators\n",
        "#using +\n",
        "\n",
        "tup_1=(1,2,3,4,5)\n",
        "tup_2=('a','b','c')\n",
        "tup_3=tup_1+tup_2\n",
        "print(tup_3)\n",
        "\n",
        "#using *\n",
        "print(tup_1*2)"
      ],
      "metadata": {
        "colab": {
          "base_uri": "https://localhost:8080/"
        },
        "id": "fIvMjz8jtY73",
        "outputId": "2b4e58ae-f7a2-4c85-d063-17abca764c67"
      },
      "execution_count": null,
      "outputs": [
        {
          "output_type": "stream",
          "name": "stdout",
          "text": [
            "(1, 2, 3, 4, 5, 'a', 'b', 'c')\n",
            "(1, 2, 3, 4, 5, 1, 2, 3, 4, 5)\n"
          ]
        }
      ]
    },
    {
      "cell_type": "code",
      "source": [
        "#tuple nested\n",
        "tup_nest1=([1,2,3,4],['A','B','C','D'],['a','b','c','d'])\n",
        "tup_nest2=((1,2,3,4),['A','B','C','D'],['a','b','c','d'])\n",
        "tup_nest3=([1,2,3,4],('A','B','C','D'),['a','b','c','d'])\n",
        "\n",
        "print(tup_nest1[1][2])\n",
        "print(tup_nest2)\n",
        "print(tup_nest3)"
      ],
      "metadata": {
        "colab": {
          "base_uri": "https://localhost:8080/"
        },
        "id": "-4CTcfxBvasB",
        "outputId": "0724794d-a03f-4bd2-d98c-1614fcfe8a31"
      },
      "execution_count": null,
      "outputs": [
        {
          "output_type": "stream",
          "name": "stdout",
          "text": [
            "C\n",
            "((1, 2, 3, 4), ['A', 'B', 'C', 'D'], ['a', 'b', 'c', 'd'])\n",
            "([1, 2, 3, 4], ('A', 'B', 'C', 'D'), ['a', 'b', 'c', 'd'])\n"
          ]
        }
      ]
    },
    {
      "cell_type": "code",
      "source": [
        "#changing  in tuple\n",
        "#it is immutable\n",
        "tuple_a=(1,2,3,4)\n",
        "tuple_nest_a=((1, 2, 3, 4), ['A', 'B', 'C', 'D'], ['a', 'b', 'c', 'd'])\n",
        "\n",
        "#change element\n",
        "tuple_a[2]=99 #'tuple' object does not support item assignment\n"
      ],
      "metadata": {
        "colab": {
          "base_uri": "https://localhost:8080/",
          "height": 200
        },
        "id": "tiZR6XCXwpnn",
        "outputId": "3bf67702-53be-45f0-899b-d359d6b1c8d9"
      },
      "execution_count": null,
      "outputs": [
        {
          "output_type": "error",
          "ename": "TypeError",
          "evalue": "ignored",
          "traceback": [
            "\u001b[0;31m---------------------------------------------------------------------------\u001b[0m",
            "\u001b[0;31mTypeError\u001b[0m                                 Traceback (most recent call last)",
            "\u001b[0;32m<ipython-input-21-5952e6e20046>\u001b[0m in \u001b[0;36m<module>\u001b[0;34m()\u001b[0m\n\u001b[1;32m      5\u001b[0m \u001b[0;34m\u001b[0m\u001b[0m\n\u001b[1;32m      6\u001b[0m \u001b[0;31m#change element\u001b[0m\u001b[0;34m\u001b[0m\u001b[0;34m\u001b[0m\u001b[0;34m\u001b[0m\u001b[0m\n\u001b[0;32m----> 7\u001b[0;31m \u001b[0mtuple_a\u001b[0m\u001b[0;34m[\u001b[0m\u001b[0;36m2\u001b[0m\u001b[0;34m]\u001b[0m\u001b[0;34m=\u001b[0m\u001b[0;36m99\u001b[0m\u001b[0;34m\u001b[0m\u001b[0;34m\u001b[0m\u001b[0m\n\u001b[0m",
            "\u001b[0;31mTypeError\u001b[0m: 'tuple' object does not support item assignment"
          ]
        }
      ]
    },
    {
      "cell_type": "markdown",
      "source": [
        "<h3>Lacture 19"
      ],
      "metadata": {
        "id": "cyw-rO1MxbS0"
      }
    },
    {
      "cell_type": "code",
      "source": [
        "print(tuple_nest_a)\n",
        "tuple_nest_a[1][2]='x'\n",
        "print(tuple_nest_a)"
      ],
      "metadata": {
        "colab": {
          "base_uri": "https://localhost:8080/"
        },
        "id": "K6riqgFPxiEA",
        "outputId": "5a7254b3-55f2-42e5-cf4b-417154eefa51"
      },
      "execution_count": null,
      "outputs": [
        {
          "output_type": "stream",
          "name": "stdout",
          "text": [
            "((1, 2, 3, 4), ['A', 'B', 'C', 'D'], ['a', 'b', 'c', 'd'])\n",
            "((1, 2, 3, 4), ['A', 'B', 'x', 'D'], ['a', 'b', 'c', 'd'])\n"
          ]
        }
      ]
    },
    {
      "cell_type": "code",
      "source": [
        "#deliting tuple elements\n",
        "print(tuple_nest_a)\n",
        "del tuple_nest_a\n",
        "print(tuple_nest_a)#NameError: name 'tuple_nest_a' is not defined"
      ],
      "metadata": {
        "colab": {
          "base_uri": "https://localhost:8080/",
          "height": 217
        },
        "id": "e20htjXsy1NY",
        "outputId": "1600f0b4-3bbf-49ec-825c-7182ef698081"
      },
      "execution_count": null,
      "outputs": [
        {
          "output_type": "stream",
          "name": "stdout",
          "text": [
            "((1, 2, 3, 4), ['A', 'B', 'x', 'D'], ['a', 'b', 'c', 'd'])\n"
          ]
        },
        {
          "output_type": "error",
          "ename": "NameError",
          "evalue": "ignored",
          "traceback": [
            "\u001b[0;31m---------------------------------------------------------------------------\u001b[0m",
            "\u001b[0;31mNameError\u001b[0m                                 Traceback (most recent call last)",
            "\u001b[0;32m<ipython-input-25-496b87b50993>\u001b[0m in \u001b[0;36m<module>\u001b[0;34m()\u001b[0m\n\u001b[1;32m      2\u001b[0m \u001b[0mprint\u001b[0m\u001b[0;34m(\u001b[0m\u001b[0mtuple_nest_a\u001b[0m\u001b[0;34m)\u001b[0m\u001b[0;34m\u001b[0m\u001b[0;34m\u001b[0m\u001b[0m\n\u001b[1;32m      3\u001b[0m \u001b[0;32mdel\u001b[0m \u001b[0mtuple_nest_a\u001b[0m\u001b[0;34m\u001b[0m\u001b[0;34m\u001b[0m\u001b[0m\n\u001b[0;32m----> 4\u001b[0;31m \u001b[0mprint\u001b[0m\u001b[0;34m(\u001b[0m\u001b[0mtuple_nest_a\u001b[0m\u001b[0;34m)\u001b[0m\u001b[0;34m\u001b[0m\u001b[0;34m\u001b[0m\u001b[0m\n\u001b[0m",
            "\u001b[0;31mNameError\u001b[0m: name 'tuple_nest_a' is not defined"
          ]
        }
      ]
    },
    {
      "cell_type": "code",
      "source": [
        "#tuple Unpacking\n",
        "tuple_b=(1,2,3,4,5,6,6)\n",
        "a=tuple_b[1]\n",
        "print(tuple_b)\n",
        "print(a)\n",
        "\n",
        "#Unpacking #cn't change\n",
        "a,b,c=tuple_b\n",
        "print(a,b,c)"
      ],
      "metadata": {
        "colab": {
          "base_uri": "https://localhost:8080/",
          "height": 252
        },
        "id": "SqjaX3AuzXEJ",
        "outputId": "d9ee6654-025a-4bc9-d462-250dc546c5fa"
      },
      "execution_count": null,
      "outputs": [
        {
          "output_type": "stream",
          "name": "stdout",
          "text": [
            "(1, 2, 3, 4, 5, 6, 6)\n",
            "2\n"
          ]
        },
        {
          "output_type": "error",
          "ename": "ValueError",
          "evalue": "ignored",
          "traceback": [
            "\u001b[0;31m---------------------------------------------------------------------------\u001b[0m",
            "\u001b[0;31mValueError\u001b[0m                                Traceback (most recent call last)",
            "\u001b[0;32m<ipython-input-28-34a2747b88cc>\u001b[0m in \u001b[0;36m<module>\u001b[0;34m()\u001b[0m\n\u001b[1;32m      6\u001b[0m \u001b[0;34m\u001b[0m\u001b[0m\n\u001b[1;32m      7\u001b[0m \u001b[0;31m#Unpacking\u001b[0m\u001b[0;34m\u001b[0m\u001b[0;34m\u001b[0m\u001b[0;34m\u001b[0m\u001b[0m\n\u001b[0;32m----> 8\u001b[0;31m \u001b[0ma\u001b[0m\u001b[0;34m,\u001b[0m\u001b[0mb\u001b[0m\u001b[0;34m,\u001b[0m\u001b[0mc\u001b[0m\u001b[0;34m=\u001b[0m\u001b[0mtuple_b\u001b[0m\u001b[0;34m\u001b[0m\u001b[0;34m\u001b[0m\u001b[0m\n\u001b[0m\u001b[1;32m      9\u001b[0m \u001b[0mprint\u001b[0m\u001b[0;34m(\u001b[0m\u001b[0ma\u001b[0m\u001b[0;34m,\u001b[0m\u001b[0mb\u001b[0m\u001b[0;34m,\u001b[0m\u001b[0mc\u001b[0m\u001b[0;34m)\u001b[0m\u001b[0;34m\u001b[0m\u001b[0;34m\u001b[0m\u001b[0m\n",
            "\u001b[0;31mValueError\u001b[0m: too many values to unpack (expected 3)"
          ]
        }
      ]
    },
    {
      "cell_type": "code",
      "source": [
        "#tuples methods\n",
        "tuple_b=(1,2,3,4,5,4,3,1,2,3,4,5,6,6)\n",
        "#count\n",
        "print(tuple_b.count(4))\n",
        "\n",
        "#index\n",
        "print('index : ',tuple_b.index(5))"
      ],
      "metadata": {
        "colab": {
          "base_uri": "https://localhost:8080/"
        },
        "id": "EbtlGe4d0UJS",
        "outputId": "455ab5be-0524-429a-a5ab-3f0a5ed13252"
      },
      "execution_count": null,
      "outputs": [
        {
          "output_type": "stream",
          "name": "stdout",
          "text": [
            "3\n",
            "index :  4\n"
          ]
        }
      ]
    },
    {
      "cell_type": "markdown",
      "source": [
        "<h4><marquee>Lacture 20</marquee></h4>"
      ],
      "metadata": {
        "id": "z-QH8etr1AI8"
      }
    },
    {
      "cell_type": "code",
      "source": [
        "#tuple itterating\n",
        "tuple_b=(1,2,3,4,5,4,3,1,2,3,4,5,6,6)\n",
        "for tuple_b in tuple_b:\n",
        "  print(tuple_b)\n",
        "\n",
        "\n",
        "tuple_2=('a','b','c')\n",
        "for x in tuple_2:\n",
        "  print('alph : ',x)"
      ],
      "metadata": {
        "colab": {
          "base_uri": "https://localhost:8080/"
        },
        "id": "qHdFa-vc1Mo_",
        "outputId": "8fcd812d-704a-401c-f3ac-1d3a90bf837d"
      },
      "execution_count": null,
      "outputs": [
        {
          "output_type": "stream",
          "name": "stdout",
          "text": [
            "1\n",
            "2\n",
            "3\n",
            "4\n",
            "5\n",
            "4\n",
            "3\n",
            "1\n",
            "2\n",
            "3\n",
            "4\n",
            "5\n",
            "6\n",
            "6\n",
            "alph :  a\n",
            "alph :  b\n",
            "alph :  c\n"
          ]
        }
      ]
    },
    {
      "cell_type": "code",
      "source": [
        "#membership operator\n",
        "last_tup=('apple','mango','banana','grapes')\n",
        "print('apple' not in last_tup)\n",
        "print('apple' in last_tup)\n"
      ],
      "metadata": {
        "colab": {
          "base_uri": "https://localhost:8080/"
        },
        "id": "J5zSYQfu2PE-",
        "outputId": "701004d6-107c-4752-ebd3-acd6beb0656f"
      },
      "execution_count": null,
      "outputs": [
        {
          "output_type": "stream",
          "name": "stdout",
          "text": [
            "False\n",
            "True\n"
          ]
        }
      ]
    }
  ]
}